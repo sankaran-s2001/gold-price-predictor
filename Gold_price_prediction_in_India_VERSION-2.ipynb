{
 "cells": [
  {
   "cell_type": "markdown",
   "id": "91149661",
   "metadata": {},
   "source": [
    "Sankaran S - 07/07/2025"
   ]
  },
  {
   "cell_type": "markdown",
   "id": "afafe1bf",
   "metadata": {},
   "source": [
    "# **Gold price prediction in India**"
   ]
  },
  {
   "cell_type": "markdown",
   "id": "0509ef2c",
   "metadata": {},
   "source": [
    "## Importing libraries"
   ]
  },
  {
   "cell_type": "code",
   "execution_count": 93,
   "id": "557592e6",
   "metadata": {},
   "outputs": [],
   "source": [
    "import pandas as pd\n",
    "import numpy as np\n",
    "import matplotlib.pyplot as plt\n",
    "import seaborn as sns\n",
    "import plotly.express as px\n",
    "import yfinance as yf\n",
    "from pandas import DataFrame\n",
    "import requests\n",
    "import re \n",
    "from datetime import datetime\n",
    "from sklearn.model_selection import train_test_split\n",
    "from sklearn.preprocessing import StandardScaler\n",
    "from sklearn.linear_model import LinearRegression\n",
    "from sklearn.metrics import mean_absolute_error, mean_squared_error, r2_score\n",
    "from sklearn.ensemble import RandomForestRegressor\n",
    "import pickle\n",
    "import gradio as gr"
   ]
  },
  {
   "cell_type": "markdown",
   "id": "2f4c9c55",
   "metadata": {},
   "source": [
    "## Data collections"
   ]
  },
  {
   "cell_type": "markdown",
   "id": "a471f8a8",
   "metadata": {},
   "source": [
    "### Extracting USD_INR exchange rate"
   ]
  },
  {
   "cell_type": "code",
   "execution_count": 2,
   "id": "61dce269",
   "metadata": {},
   "outputs": [
    {
     "name": "stderr",
     "output_type": "stream",
     "text": [
      "C:\\Users\\sanka\\AppData\\Local\\Temp\\ipykernel_12996\\3593658626.py:2: FutureWarning: YF.download() has changed argument auto_adjust default to True\n",
      "  usd_inr: DataFrame = yf.download(tickers=\"USDINR=X\", start=\"2024-01-01\", end=\"2025-07-07\") # type: ignore\n",
      "[*********************100%***********************]  1 of 1 completed\n"
     ]
    },
    {
     "data": {
      "text/html": [
       "<div>\n",
       "<style scoped>\n",
       "    .dataframe tbody tr th:only-of-type {\n",
       "        vertical-align: middle;\n",
       "    }\n",
       "\n",
       "    .dataframe tbody tr th {\n",
       "        vertical-align: top;\n",
       "    }\n",
       "\n",
       "    .dataframe thead tr th {\n",
       "        text-align: left;\n",
       "    }\n",
       "\n",
       "    .dataframe thead tr:last-of-type th {\n",
       "        text-align: right;\n",
       "    }\n",
       "</style>\n",
       "<table border=\"1\" class=\"dataframe\">\n",
       "  <thead>\n",
       "    <tr>\n",
       "      <th>Price</th>\n",
       "      <th>Close</th>\n",
       "      <th>High</th>\n",
       "      <th>Low</th>\n",
       "      <th>Open</th>\n",
       "      <th>Volume</th>\n",
       "    </tr>\n",
       "    <tr>\n",
       "      <th>Ticker</th>\n",
       "      <th>USDINR=X</th>\n",
       "      <th>USDINR=X</th>\n",
       "      <th>USDINR=X</th>\n",
       "      <th>USDINR=X</th>\n",
       "      <th>USDINR=X</th>\n",
       "    </tr>\n",
       "    <tr>\n",
       "      <th>Date</th>\n",
       "      <th></th>\n",
       "      <th></th>\n",
       "      <th></th>\n",
       "      <th></th>\n",
       "      <th></th>\n",
       "    </tr>\n",
       "  </thead>\n",
       "  <tbody>\n",
       "    <tr>\n",
       "      <th>2024-01-01</th>\n",
       "      <td>83.248596</td>\n",
       "      <td>83.237999</td>\n",
       "      <td>83.150002</td>\n",
       "      <td>83.248596</td>\n",
       "      <td>0</td>\n",
       "    </tr>\n",
       "    <tr>\n",
       "      <th>2024-01-02</th>\n",
       "      <td>83.202599</td>\n",
       "      <td>83.343002</td>\n",
       "      <td>83.169800</td>\n",
       "      <td>83.202599</td>\n",
       "      <td>0</td>\n",
       "    </tr>\n",
       "    <tr>\n",
       "      <th>2024-01-03</th>\n",
       "      <td>83.257004</td>\n",
       "      <td>83.333702</td>\n",
       "      <td>83.246201</td>\n",
       "      <td>83.257004</td>\n",
       "      <td>0</td>\n",
       "    </tr>\n",
       "    <tr>\n",
       "      <th>2024-01-04</th>\n",
       "      <td>83.318100</td>\n",
       "      <td>83.360298</td>\n",
       "      <td>83.202103</td>\n",
       "      <td>83.318100</td>\n",
       "      <td>0</td>\n",
       "    </tr>\n",
       "    <tr>\n",
       "      <th>2024-01-05</th>\n",
       "      <td>83.240601</td>\n",
       "      <td>83.271599</td>\n",
       "      <td>83.035004</td>\n",
       "      <td>83.240601</td>\n",
       "      <td>0</td>\n",
       "    </tr>\n",
       "  </tbody>\n",
       "</table>\n",
       "</div>"
      ],
      "text/plain": [
       "Price           Close       High        Low       Open   Volume\n",
       "Ticker       USDINR=X   USDINR=X   USDINR=X   USDINR=X USDINR=X\n",
       "Date                                                           \n",
       "2024-01-01  83.248596  83.237999  83.150002  83.248596        0\n",
       "2024-01-02  83.202599  83.343002  83.169800  83.202599        0\n",
       "2024-01-03  83.257004  83.333702  83.246201  83.257004        0\n",
       "2024-01-04  83.318100  83.360298  83.202103  83.318100        0\n",
       "2024-01-05  83.240601  83.271599  83.035004  83.240601        0"
      ]
     },
     "metadata": {},
     "output_type": "display_data"
    }
   ],
   "source": [
    "# Collect USD_INR exchange rate using yfinance\n",
    "usd_inr: DataFrame = yf.download(tickers=\"USDINR=X\", start=\"2024-01-01\", end=\"2025-07-07\") # type: ignore\n",
    "display(usd_inr.head())"
   ]
  },
  {
   "cell_type": "code",
   "execution_count": 3,
   "id": "fb2df879",
   "metadata": {},
   "outputs": [
    {
     "name": "stdout",
     "output_type": "stream",
     "text": [
      "<class 'pandas.core.frame.DataFrame'>\n",
      "DatetimeIndex: 392 entries, 2024-01-01 to 2025-07-04\n",
      "Data columns (total 5 columns):\n",
      " #   Column              Non-Null Count  Dtype  \n",
      "---  ------              --------------  -----  \n",
      " 0   (Close, USDINR=X)   392 non-null    float64\n",
      " 1   (High, USDINR=X)    392 non-null    float64\n",
      " 2   (Low, USDINR=X)     392 non-null    float64\n",
      " 3   (Open, USDINR=X)    392 non-null    float64\n",
      " 4   (Volume, USDINR=X)  392 non-null    int64  \n",
      "dtypes: float64(4), int64(1)\n",
      "memory usage: 18.4 KB\n"
     ]
    }
   ],
   "source": [
    "usd_inr.info()"
   ]
  },
  {
   "cell_type": "code",
   "execution_count": 4,
   "id": "a4c2d276",
   "metadata": {},
   "outputs": [],
   "source": [
    "usd_inr.reset_index(inplace= True)"
   ]
  },
  {
   "cell_type": "code",
   "execution_count": 5,
   "id": "2d14d4e8",
   "metadata": {},
   "outputs": [
    {
     "data": {
      "text/html": [
       "<div>\n",
       "<style scoped>\n",
       "    .dataframe tbody tr th:only-of-type {\n",
       "        vertical-align: middle;\n",
       "    }\n",
       "\n",
       "    .dataframe tbody tr th {\n",
       "        vertical-align: top;\n",
       "    }\n",
       "\n",
       "    .dataframe thead tr th {\n",
       "        text-align: left;\n",
       "    }\n",
       "</style>\n",
       "<table border=\"1\" class=\"dataframe\">\n",
       "  <thead>\n",
       "    <tr>\n",
       "      <th>Price</th>\n",
       "      <th>Date</th>\n",
       "      <th>Close</th>\n",
       "      <th>High</th>\n",
       "      <th>Low</th>\n",
       "      <th>Open</th>\n",
       "      <th>Volume</th>\n",
       "    </tr>\n",
       "    <tr>\n",
       "      <th>Ticker</th>\n",
       "      <th></th>\n",
       "      <th>USDINR=X</th>\n",
       "      <th>USDINR=X</th>\n",
       "      <th>USDINR=X</th>\n",
       "      <th>USDINR=X</th>\n",
       "      <th>USDINR=X</th>\n",
       "    </tr>\n",
       "  </thead>\n",
       "  <tbody>\n",
       "    <tr>\n",
       "      <th>0</th>\n",
       "      <td>2024-01-01</td>\n",
       "      <td>83.248596</td>\n",
       "      <td>83.237999</td>\n",
       "      <td>83.150002</td>\n",
       "      <td>83.248596</td>\n",
       "      <td>0</td>\n",
       "    </tr>\n",
       "    <tr>\n",
       "      <th>1</th>\n",
       "      <td>2024-01-02</td>\n",
       "      <td>83.202599</td>\n",
       "      <td>83.343002</td>\n",
       "      <td>83.169800</td>\n",
       "      <td>83.202599</td>\n",
       "      <td>0</td>\n",
       "    </tr>\n",
       "    <tr>\n",
       "      <th>2</th>\n",
       "      <td>2024-01-03</td>\n",
       "      <td>83.257004</td>\n",
       "      <td>83.333702</td>\n",
       "      <td>83.246201</td>\n",
       "      <td>83.257004</td>\n",
       "      <td>0</td>\n",
       "    </tr>\n",
       "    <tr>\n",
       "      <th>3</th>\n",
       "      <td>2024-01-04</td>\n",
       "      <td>83.318100</td>\n",
       "      <td>83.360298</td>\n",
       "      <td>83.202103</td>\n",
       "      <td>83.318100</td>\n",
       "      <td>0</td>\n",
       "    </tr>\n",
       "    <tr>\n",
       "      <th>4</th>\n",
       "      <td>2024-01-05</td>\n",
       "      <td>83.240601</td>\n",
       "      <td>83.271599</td>\n",
       "      <td>83.035004</td>\n",
       "      <td>83.240601</td>\n",
       "      <td>0</td>\n",
       "    </tr>\n",
       "  </tbody>\n",
       "</table>\n",
       "</div>"
      ],
      "text/plain": [
       "Price        Date      Close       High        Low       Open   Volume\n",
       "Ticker              USDINR=X   USDINR=X   USDINR=X   USDINR=X USDINR=X\n",
       "0      2024-01-01  83.248596  83.237999  83.150002  83.248596        0\n",
       "1      2024-01-02  83.202599  83.343002  83.169800  83.202599        0\n",
       "2      2024-01-03  83.257004  83.333702  83.246201  83.257004        0\n",
       "3      2024-01-04  83.318100  83.360298  83.202103  83.318100        0\n",
       "4      2024-01-05  83.240601  83.271599  83.035004  83.240601        0"
      ]
     },
     "execution_count": 5,
     "metadata": {},
     "output_type": "execute_result"
    }
   ],
   "source": [
    "usd_inr.head()"
   ]
  },
  {
   "cell_type": "code",
   "execution_count": 6,
   "id": "a47fc94b",
   "metadata": {},
   "outputs": [
    {
     "data": {
      "text/html": [
       "<div>\n",
       "<style scoped>\n",
       "    .dataframe tbody tr th:only-of-type {\n",
       "        vertical-align: middle;\n",
       "    }\n",
       "\n",
       "    .dataframe tbody tr th {\n",
       "        vertical-align: top;\n",
       "    }\n",
       "\n",
       "    .dataframe thead tr th {\n",
       "        text-align: left;\n",
       "    }\n",
       "</style>\n",
       "<table border=\"1\" class=\"dataframe\">\n",
       "  <thead>\n",
       "    <tr>\n",
       "      <th>Price</th>\n",
       "      <th>Date</th>\n",
       "      <th>Close</th>\n",
       "      <th>High</th>\n",
       "      <th>Low</th>\n",
       "      <th>Open</th>\n",
       "      <th>Volume</th>\n",
       "    </tr>\n",
       "    <tr>\n",
       "      <th>Ticker</th>\n",
       "      <th></th>\n",
       "      <th>USDINR=X</th>\n",
       "      <th>USDINR=X</th>\n",
       "      <th>USDINR=X</th>\n",
       "      <th>USDINR=X</th>\n",
       "      <th>USDINR=X</th>\n",
       "    </tr>\n",
       "  </thead>\n",
       "  <tbody>\n",
       "    <tr>\n",
       "      <th>387</th>\n",
       "      <td>2025-06-30</td>\n",
       "      <td>85.455299</td>\n",
       "      <td>85.927696</td>\n",
       "      <td>85.241997</td>\n",
       "      <td>85.455299</td>\n",
       "      <td>0</td>\n",
       "    </tr>\n",
       "    <tr>\n",
       "      <th>388</th>\n",
       "      <td>2025-07-01</td>\n",
       "      <td>85.713997</td>\n",
       "      <td>85.741699</td>\n",
       "      <td>85.459297</td>\n",
       "      <td>85.713997</td>\n",
       "      <td>0</td>\n",
       "    </tr>\n",
       "    <tr>\n",
       "      <th>389</th>\n",
       "      <td>2025-07-02</td>\n",
       "      <td>85.642799</td>\n",
       "      <td>85.771004</td>\n",
       "      <td>85.510498</td>\n",
       "      <td>85.642799</td>\n",
       "      <td>0</td>\n",
       "    </tr>\n",
       "    <tr>\n",
       "      <th>390</th>\n",
       "      <td>2025-07-03</td>\n",
       "      <td>85.694099</td>\n",
       "      <td>85.697998</td>\n",
       "      <td>85.192703</td>\n",
       "      <td>85.694099</td>\n",
       "      <td>0</td>\n",
       "    </tr>\n",
       "    <tr>\n",
       "      <th>391</th>\n",
       "      <td>2025-07-04</td>\n",
       "      <td>85.319099</td>\n",
       "      <td>85.553001</td>\n",
       "      <td>85.307297</td>\n",
       "      <td>85.319099</td>\n",
       "      <td>0</td>\n",
       "    </tr>\n",
       "  </tbody>\n",
       "</table>\n",
       "</div>"
      ],
      "text/plain": [
       "Price        Date      Close       High        Low       Open   Volume\n",
       "Ticker              USDINR=X   USDINR=X   USDINR=X   USDINR=X USDINR=X\n",
       "387    2025-06-30  85.455299  85.927696  85.241997  85.455299        0\n",
       "388    2025-07-01  85.713997  85.741699  85.459297  85.713997        0\n",
       "389    2025-07-02  85.642799  85.771004  85.510498  85.642799        0\n",
       "390    2025-07-03  85.694099  85.697998  85.192703  85.694099        0\n",
       "391    2025-07-04  85.319099  85.553001  85.307297  85.319099        0"
      ]
     },
     "execution_count": 6,
     "metadata": {},
     "output_type": "execute_result"
    }
   ],
   "source": [
    "usd_inr.tail()"
   ]
  },
  {
   "cell_type": "code",
   "execution_count": 7,
   "id": "7cc7c0c2",
   "metadata": {},
   "outputs": [],
   "source": [
    "#keep only relevent columns\n",
    "usd_inr = usd_inr[['Date', 'Close']]"
   ]
  },
  {
   "cell_type": "code",
   "execution_count": 8,
   "id": "638754fd",
   "metadata": {},
   "outputs": [],
   "source": [
    "#Changing colun names\n",
    "usd_inr.columns = ['Date', 'USD_INR']"
   ]
  },
  {
   "cell_type": "code",
   "execution_count": 9,
   "id": "e064494b",
   "metadata": {},
   "outputs": [
    {
     "name": "stdout",
     "output_type": "stream",
     "text": [
      "<class 'pandas.core.frame.DataFrame'>\n",
      "RangeIndex: 392 entries, 0 to 391\n",
      "Data columns (total 2 columns):\n",
      " #   Column   Non-Null Count  Dtype         \n",
      "---  ------   --------------  -----         \n",
      " 0   Date     392 non-null    datetime64[ns]\n",
      " 1   USD_INR  392 non-null    float64       \n",
      "dtypes: datetime64[ns](1), float64(1)\n",
      "memory usage: 6.3 KB\n"
     ]
    }
   ],
   "source": [
    "usd_inr.info()"
   ]
  },
  {
   "cell_type": "code",
   "execution_count": 10,
   "id": "e9daead7",
   "metadata": {},
   "outputs": [
    {
     "data": {
      "text/html": [
       "<div>\n",
       "<style scoped>\n",
       "    .dataframe tbody tr th:only-of-type {\n",
       "        vertical-align: middle;\n",
       "    }\n",
       "\n",
       "    .dataframe tbody tr th {\n",
       "        vertical-align: top;\n",
       "    }\n",
       "\n",
       "    .dataframe thead th {\n",
       "        text-align: right;\n",
       "    }\n",
       "</style>\n",
       "<table border=\"1\" class=\"dataframe\">\n",
       "  <thead>\n",
       "    <tr style=\"text-align: right;\">\n",
       "      <th></th>\n",
       "      <th>Date</th>\n",
       "      <th>USD_INR</th>\n",
       "    </tr>\n",
       "  </thead>\n",
       "  <tbody>\n",
       "    <tr>\n",
       "      <th>0</th>\n",
       "      <td>2024-01-01</td>\n",
       "      <td>83.248596</td>\n",
       "    </tr>\n",
       "    <tr>\n",
       "      <th>1</th>\n",
       "      <td>2024-01-02</td>\n",
       "      <td>83.202599</td>\n",
       "    </tr>\n",
       "    <tr>\n",
       "      <th>2</th>\n",
       "      <td>2024-01-03</td>\n",
       "      <td>83.257004</td>\n",
       "    </tr>\n",
       "    <tr>\n",
       "      <th>3</th>\n",
       "      <td>2024-01-04</td>\n",
       "      <td>83.318100</td>\n",
       "    </tr>\n",
       "    <tr>\n",
       "      <th>4</th>\n",
       "      <td>2024-01-05</td>\n",
       "      <td>83.240601</td>\n",
       "    </tr>\n",
       "    <tr>\n",
       "      <th>...</th>\n",
       "      <td>...</td>\n",
       "      <td>...</td>\n",
       "    </tr>\n",
       "    <tr>\n",
       "      <th>387</th>\n",
       "      <td>2025-06-30</td>\n",
       "      <td>85.455299</td>\n",
       "    </tr>\n",
       "    <tr>\n",
       "      <th>388</th>\n",
       "      <td>2025-07-01</td>\n",
       "      <td>85.713997</td>\n",
       "    </tr>\n",
       "    <tr>\n",
       "      <th>389</th>\n",
       "      <td>2025-07-02</td>\n",
       "      <td>85.642799</td>\n",
       "    </tr>\n",
       "    <tr>\n",
       "      <th>390</th>\n",
       "      <td>2025-07-03</td>\n",
       "      <td>85.694099</td>\n",
       "    </tr>\n",
       "    <tr>\n",
       "      <th>391</th>\n",
       "      <td>2025-07-04</td>\n",
       "      <td>85.319099</td>\n",
       "    </tr>\n",
       "  </tbody>\n",
       "</table>\n",
       "<p>392 rows × 2 columns</p>\n",
       "</div>"
      ],
      "text/plain": [
       "          Date    USD_INR\n",
       "0   2024-01-01  83.248596\n",
       "1   2024-01-02  83.202599\n",
       "2   2024-01-03  83.257004\n",
       "3   2024-01-04  83.318100\n",
       "4   2024-01-05  83.240601\n",
       "..         ...        ...\n",
       "387 2025-06-30  85.455299\n",
       "388 2025-07-01  85.713997\n",
       "389 2025-07-02  85.642799\n",
       "390 2025-07-03  85.694099\n",
       "391 2025-07-04  85.319099\n",
       "\n",
       "[392 rows x 2 columns]"
      ]
     },
     "execution_count": 10,
     "metadata": {},
     "output_type": "execute_result"
    }
   ],
   "source": [
    "usd_inr"
   ]
  },
  {
   "cell_type": "markdown",
   "id": "7fe56892",
   "metadata": {},
   "source": [
    "## Scraping the gold prices from the website"
   ]
  },
  {
   "cell_type": "markdown",
   "id": "57fee989",
   "metadata": {},
   "source": [
    "### Extracting 2024 data"
   ]
  },
  {
   "cell_type": "code",
   "execution_count": 12,
   "id": "8e93baa9",
   "metadata": {},
   "outputs": [],
   "source": [
    "url_2024 = \"https://www.exchange-rates.org/api/v2/rates/GetChartRates?dataDisplayMode=2&from=XAU&to=INR&countryCode=IN&unit=G&karat=22&groupId=2024&dateFrom=2024-1-1&dateTo=2024-12-31&rateFormat=null&regenerateSectionHeader=true&pageCode=PreciousMetalHistoryByCountry\"\n",
    "\n",
    "\n",
    "response_2024 = requests.get(url_2024)\n",
    "data_2024 = response_2024.json()  "
   ]
  },
  {
   "cell_type": "code",
   "execution_count": 13,
   "id": "a61b3510",
   "metadata": {},
   "outputs": [
    {
     "data": {
      "text/plain": [
       "{'ErrorMessage': None,\n",
       " 'SectionHeader': None,\n",
       " 'StatisticsHtml': '<p>This chart shows gold prices in India for 2024. Prices are in Indian Rupees per gram\\r\\n\\r\\nfor 22K gold\\r\\n.</p>',\n",
       " 'FAQHtml': '<section class=\"faq-section wo-title\"><h2>What was the average gold price in India in 2024?</h2>\\n<p>The average price of gold in 2024 was <span class=\"currencySymbol\">₹</span>5,895.44 per gram.</p>\\n<h2>What was the highest gold price in India in 2024?</h2>\\n<p>The high point per gram of\\r\\n22K\\r\\ngold during 2024 was <span class=\"currencySymbol\">₹</span>6,907.09 on October 30, 2024.</p>\\n<h2>What was the lowest gold price in India in 2024?</h2>\\n<p>The low point was <span class=\"currencySymbol\">₹</span>4,877.01 per gram of gold on February 13, 2024.</p>\\n<h2>Was the price of gold in India up or down in 2024?</h2>\\n<p>The price of\\r\\n22K\\r\\ngold in INR was\\r\\nup <span class=\"rate-change rate-green\">+30.67%</span>\\r\\nin 2024.</p>\\n</section>',\n",
       " 'ChartData': '[[D(2024,1,1),R(5066311,3)],[D(2024,1,2),R(5053341,3)],[D(2024,1,3),R(5014551,3)],[D(2024,1,4),R(5012479,3)],[D(2024,1,5),R(5015198,3)],[D(2024,1,8),R(4966310,3)],[D(2024,1,9),R(4972306,3)],[D(2024,1,10),R(4955580,3)],[D(2024,1,11),R(4978278,3)],[D(2024,1,12),R(5005296,3)],[D(2024,1,15),R(5015326,3)],[D(2024,1,16),R(4962556,3)],[D(2024,1,17),R(4925980,3)],[D(2024,1,18),R(4956514,3)],[D(2024,1,19),R(4972076,3)],[D(2024,1,22),R(4950837,3)],[D(2024,1,23),R(4974937,3)],[D(2024,1,24),R(4939310,3)],[D(2024,1,25),R(4952733,3)],[D(2024,1,26),R(4944702,3)],[D(2024,1,29),R(4976772,3)],[D(2024,1,30),R(4987353,3)],[D(2024,1,31),R(4998434,3)],[D(2024,2,1),R(5026316,3)],[D(2024,2,2),R(4988710,3)],[D(2024,2,5),R(4953904,3)],[D(2024,2,6),R(4983216,3)],[D(2024,2,7),R(4980184,3)],[D(2024,2,8),R(4974870,3)],[D(2024,2,9),R(4953073,3)],[D(2024,2,12),R(4938727,3)],[D(2024,2,13),R(4877012,3)],[D(2024,2,14),R(4877947,3)],[D(2024,2,15),R(4902940,3)],[D(2024,2,16),R(4924927,3)],[D(2024,2,19),R(4934986,3)],[D(2024,2,20),R(4944551,3)],[D(2024,2,21),R(4952549,3)],[D(2024,2,22),R(4947502,3)],[D(2024,2,23),R(4972228,3)],[D(2024,2,26),R(4960543,3)],[D(2024,2,27),R(4961670,3)],[D(2024,2,28),R(4973105,3)],[D(2024,2,29),R(4994153,3)],[D(2024,3,1),R(5084776,3)],[D(2024,3,4),R(5167643,3)],[D(2024,3,5),R(5199018,3)],[D(2024,3,6),R(5246300,3)],[D(2024,3,7),R(5265414,3)],[D(2024,3,8),R(5314526,3)],[D(2024,3,11),R(5326462,3)],[D(2024,3,12),R(5270927,3)],[D(2024,3,13),R(5308440,3)],[D(2024,3,14),R(5286581,3)],[D(2024,3,15),R(5267138,3)],[D(2024,3,18),R(5283440,3)],[D(2024,3,19),R(5282424,3)],[D(2024,3,20),R(5409553,3)],[D(2024,3,21),R(5351277,3)],[D(2024,3,22),R(5335320,3)],[D(2024,3,25),R(5341214,3)],[D(2024,3,26),R(5352749,3)],[D(2024,3,27),R(5388866,3)],[D(2024,3,28),R(5482022,3)],[D(2024,3,29),R(5480086,3)],[D(2024,4,1),R(5543846,3)],[D(2024,4,2),R(5621963,3)],[D(2024,4,3),R(5664795,3)],[D(2024,4,4),R(5638518,3)],[D(2024,4,5),R(5719690,3)],[D(2024,4,8),R(5737212,3)],[D(2024,4,9),R(5770855,3)],[D(2024,4,10),R(5739387,3)],[D(2024,4,11),R(5835313,3)],[D(2024,4,12),R(5777346,3)],[D(2024,4,15),R(5874865,3)],[D(2024,4,16),R(5883155,3)],[D(2024,4,17),R(5826203,3)],[D(2024,4,18),R(5861506,3)],[D(2024,4,19),R(5874459,3)],[D(2024,4,22),R(5720099,3)],[D(2024,4,23),R(5700703,3)],[D(2024,4,24),R(5693604,3)],[D(2024,4,25),R(5728700,3)],[D(2024,4,26),R(5746608,3)],[D(2024,4,29),R(5744337,3)],[D(2024,4,30),R(5636614,3)],[D(2024,5,1),R(5704486,3)],[D(2024,5,2),R(5667591,3)],[D(2024,5,3),R(5658165,3)],[D(2024,5,6),R(5724768,3)],[D(2024,5,7),R(5697971,3)],[D(2024,5,8),R(5683480,3)],[D(2024,5,9),R(5768909,3)],[D(2024,5,10),R(5812120,3)],[D(2024,5,13),R(5754391,3)],[D(2024,5,14),R(5799497,3)],[D(2024,5,15),R(5873954,3)],[D(2024,5,16),R(5851907,3)],[D(2024,5,17),R(5926215,3)],[D(2024,5,20),R(5966342,3)],[D(2024,5,21),R(5946246,3)],[D(2024,5,22),R(5842616,3)],[D(2024,5,23),R(5724208,3)],[D(2024,5,24),R(5713844,3)],[D(2024,5,27),R(5765038,3)],[D(2024,5,28),R(5786999,3)],[D(2024,5,29),R(5746377,3)],[D(2024,5,30),R(5756350,3)],[D(2024,5,31),R(5724666,3)],[D(2024,6,3),R(5757161,3)],[D(2024,6,4),R(5740172,3)],[D(2024,6,5),R(5790115,3)],[D(2024,6,6),R(5845441,3)],[D(2024,6,7),R(5646929,3)],[D(2024,6,10),R(5691701,3)],[D(2024,6,11),R(5704721,3)],[D(2024,6,12),R(5714250,3)],[D(2024,6,13),R(5671866,3)],[D(2024,6,14),R(5744793,3)],[D(2024,6,17),R(5710884,3)],[D(2024,6,18),R(5722490,3)],[D(2024,6,19),R(5729078,3)],[D(2024,6,20),R(5816223,3)],[D(2024,6,21),R(5716010,3)],[D(2024,6,24),R(5738986,3)],[D(2024,6,25),R(5707851,3)],[D(2024,6,26),R(5662983,3)],[D(2024,6,27),R(5722507,3)],[D(2024,6,28),R(5716677,3)],[D(2024,7,1),R(5734294,3)],[D(2024,7,2),R(5734940,3)],[D(2024,7,3),R(5799169,3)],[D(2024,7,4),R(5797046,3)],[D(2024,7,5),R(5885016,3)],[D(2024,7,8),R(5803071,3)],[D(2024,7,9),R(5816190,3)],[D(2024,7,10),R(5838104,3)],[D(2024,7,11),R(5937962,3)],[D(2024,7,12),R(5935539,3)],[D(2024,7,15),R(5964956,3)],[D(2024,7,16),R(6074906,3)],[D(2024,7,17),R(6056034,3)],[D(2024,7,18),R(6031031,3)],[D(2024,7,19),R(5923910,3)],[D(2024,7,22),R(5909382,3)],[D(2024,7,23),R(5941786,3)],[D(2024,7,24),R(5916808,3)],[D(2024,7,25),R(5833970,3)],[D(2024,7,26),R(5891033,3)],[D(2024,7,29),R(5883334,3)],[D(2024,7,30),R(5945972,3)],[D(2024,7,31),R(6038855,3)],[D(2024,8,1),R(6037492,3)],[D(2024,8,2),R(6028549,3)],[D(2024,8,5),R(5967658,3)],[D(2024,8,6),R(5910225,3)],[D(2024,8,7),R(5895777,3)],[D(2024,8,8),R(6007130,3)],[D(2024,8,9),R(6015088,3)],[D(2024,8,12),R(6114393,3)],[D(2024,8,13),R(6094201,3)],[D(2024,8,14),R(6056490,3)],[D(2024,8,15),R(6073668,3)],[D(2024,8,16),R(6199190,3)],[D(2024,8,19),R(6182135,3)],[D(2024,8,20),R(6210684,3)],[D(2024,8,21),R(6214243,3)],[D(2024,8,22),R(6147102,3)],[D(2024,8,23),R(6205396,3)],[D(2024,8,26),R(6222575,3)],[D(2024,8,27),R(6246080,3)],[D(2024,8,28),R(6203972,3)],[D(2024,8,29),R(6235300,3)],[D(2024,8,30),R(6188792,3)],[D(2024,9,2),R(6179612,3)],[D(2024,9,3),R(6168303,3)],[D(2024,9,4),R(6172506,3)],[D(2024,9,5),R(6227907,3)],[D(2024,9,6),R(6181471,3)],[D(2024,9,9),R(6201840,3)],[D(2024,9,10),R(6229538,3)],[D(2024,9,11),R(6222460,3)],[D(2024,9,12),R(6329455,3)],[D(2024,9,13),R(6376027,3)],[D(2024,9,16),R(6384571,3)],[D(2024,9,17),R(6346411,3)],[D(2024,9,18),R(6313776,3)],[D(2024,9,19),R(6376508,3)],[D(2024,9,20),R(6452240,3)],[D(2024,9,23),R(6470861,3)],[D(2024,9,24),R(6548440,3)],[D(2024,9,25),R(6552829,3)],[D(2024,9,26),R(6587192,3)],[D(2024,9,27),R(6558880,3)],[D(2024,9,30),R(6507663,3)],[D(2024,10,1),R(6583922,3)],[D(2024,10,2),R(6577147,3)],[D(2024,10,3),R(6574266,3)],[D(2024,10,4),R(6571318,3)],[D(2024,10,7),R(6544004,3)],[D(2024,10,8),R(6486449,3)],[D(2024,10,9),R(6450233,3)],[D(2024,10,10),R(6502508,3)],[D(2024,10,11),R(6585626,3)],[D(2024,10,14),R(6563327,3)],[D(2024,10,15),R(6595339,3)],[D(2024,10,16),R(6624626,3)],[D(2024,10,17),R(6671439,3)],[D(2024,10,18),R(6742651,3)],[D(2024,10,21),R(6741680,3)],[D(2024,10,22),R(6810527,3)],[D(2024,10,23),R(6733870,3)],[D(2024,10,24),R(6778977,3)],[D(2024,10,25),R(6810710,3)],[D(2024,10,28),R(6795347,3)],[D(2024,10,29),R(6874635,3)],[D(2024,10,30),R(6907085,3)],[D(2024,10,31),R(6804446,3)],[D(2024,11,1),R(6781262,3)],[D(2024,11,4),R(6786867,3)],[D(2024,11,5),R(6802299,3)],[D(2024,11,6),R(6612189,3)],[D(2024,11,7),R(6723379,3)],[D(2024,11,8),R(6677390,3)],[D(2024,11,11),R(6523098,3)],[D(2024,11,12),R(6464050,3)],[D(2024,11,13),R(6422685,3)],[D(2024,11,14),R(6388946,3)],[D(2024,11,15),R(6377126,3)],[D(2024,11,18),R(6498434,3)],[D(2024,11,19),R(6553318,3)],[D(2024,11,20),R(6587773,3)],[D(2024,11,21),R(6647497,3)],[D(2024,11,22),R(6756975,3)],[D(2024,11,25),R(6524058,3)],[D(2024,11,26),R(6540548,3)],[D(2024,11,27),R(6559282,3)],[D(2024,11,28),R(6567616,3)],[D(2024,11,29),R(6603743,3)],[D(2024,12,2),R(6597645,3)],[D(2024,12,3),R(6593098,3)],[D(2024,12,4),R(6617263,3)],[D(2024,12,5),R(6571604,3)],[D(2024,12,6),R(6570493,3)],[D(2024,12,9),R(6654031,3)],[D(2024,12,10),R(6741796,3)],[D(2024,12,11),R(6796887,3)],[D(2024,12,12),R(6702679,3)],[D(2024,12,13),R(6621705,3)],[D(2024,12,16),R(6639211,3)],[D(2024,12,17),R(6624482,3)],[D(2024,12,18),R(6502496,3)],[D(2024,12,19),R(6508444,3)],[D(2024,12,20),R(6567061,3)],[D(2024,12,23),R(6560640,3)],[D(2024,12,24),R(6568381,3)],[D(2024,12,25),R(6595727,3)],[D(2024,12,26),R(6650442,3)],[D(2024,12,27),R(6597517,3)],[D(2024,12,30),R(6585391,3)],[D(2024,12,31),R(6620062,3)]]',\n",
       " 'ChartDataName': 'Gold Price in Indian Rupees'}"
      ]
     },
     "execution_count": 13,
     "metadata": {},
     "output_type": "execute_result"
    }
   ],
   "source": [
    "data_2024"
   ]
  },
  {
   "cell_type": "code",
   "execution_count": null,
   "id": "2c971276",
   "metadata": {},
   "outputs": [],
   "source": [
    "# Extract the dates and prices for 2024 \n",
    "chart_data_2024 = data_2024['ChartData']\n",
    "\n",
    "pattern = r\"D\\((\\d+),(\\d+),(\\d+)\\),R\\((\\d+),(\\d+)\\)\"\n",
    "\n",
    "matches_2024 = re.findall(pattern, chart_data_2024)\n",
    "\n",
    "parsed_data_2024 = []\n",
    "for year, month, day, value, decimal in matches_2024:\n",
    "    date = datetime(int(year), int(month), int(day))\n",
    "    price = int(value) / (10 ** int(decimal)) # e.g: divide by 1000\n",
    "    parsed_data_2024.append((date, round(price, 2)))\n",
    "    \n",
    "df_2024 = pd.DataFrame(parsed_data_2024, columns=[\"Date\", \"gold_rate\"])"
   ]
  },
  {
   "cell_type": "code",
   "execution_count": 16,
   "id": "bbbc3bb4",
   "metadata": {},
   "outputs": [
    {
     "data": {
      "text/html": [
       "<div>\n",
       "<style scoped>\n",
       "    .dataframe tbody tr th:only-of-type {\n",
       "        vertical-align: middle;\n",
       "    }\n",
       "\n",
       "    .dataframe tbody tr th {\n",
       "        vertical-align: top;\n",
       "    }\n",
       "\n",
       "    .dataframe thead th {\n",
       "        text-align: right;\n",
       "    }\n",
       "</style>\n",
       "<table border=\"1\" class=\"dataframe\">\n",
       "  <thead>\n",
       "    <tr style=\"text-align: right;\">\n",
       "      <th></th>\n",
       "      <th>Date</th>\n",
       "      <th>gold_rate</th>\n",
       "    </tr>\n",
       "  </thead>\n",
       "  <tbody>\n",
       "    <tr>\n",
       "      <th>0</th>\n",
       "      <td>2024-01-01</td>\n",
       "      <td>5066.31</td>\n",
       "    </tr>\n",
       "    <tr>\n",
       "      <th>1</th>\n",
       "      <td>2024-01-02</td>\n",
       "      <td>5053.34</td>\n",
       "    </tr>\n",
       "    <tr>\n",
       "      <th>2</th>\n",
       "      <td>2024-01-03</td>\n",
       "      <td>5014.55</td>\n",
       "    </tr>\n",
       "    <tr>\n",
       "      <th>3</th>\n",
       "      <td>2024-01-04</td>\n",
       "      <td>5012.48</td>\n",
       "    </tr>\n",
       "    <tr>\n",
       "      <th>4</th>\n",
       "      <td>2024-01-05</td>\n",
       "      <td>5015.20</td>\n",
       "    </tr>\n",
       "    <tr>\n",
       "      <th>...</th>\n",
       "      <td>...</td>\n",
       "      <td>...</td>\n",
       "    </tr>\n",
       "    <tr>\n",
       "      <th>257</th>\n",
       "      <td>2024-12-25</td>\n",
       "      <td>6595.73</td>\n",
       "    </tr>\n",
       "    <tr>\n",
       "      <th>258</th>\n",
       "      <td>2024-12-26</td>\n",
       "      <td>6650.44</td>\n",
       "    </tr>\n",
       "    <tr>\n",
       "      <th>259</th>\n",
       "      <td>2024-12-27</td>\n",
       "      <td>6597.52</td>\n",
       "    </tr>\n",
       "    <tr>\n",
       "      <th>260</th>\n",
       "      <td>2024-12-30</td>\n",
       "      <td>6585.39</td>\n",
       "    </tr>\n",
       "    <tr>\n",
       "      <th>261</th>\n",
       "      <td>2024-12-31</td>\n",
       "      <td>6620.06</td>\n",
       "    </tr>\n",
       "  </tbody>\n",
       "</table>\n",
       "<p>262 rows × 2 columns</p>\n",
       "</div>"
      ],
      "text/plain": [
       "          Date  gold_rate\n",
       "0   2024-01-01    5066.31\n",
       "1   2024-01-02    5053.34\n",
       "2   2024-01-03    5014.55\n",
       "3   2024-01-04    5012.48\n",
       "4   2024-01-05    5015.20\n",
       "..         ...        ...\n",
       "257 2024-12-25    6595.73\n",
       "258 2024-12-26    6650.44\n",
       "259 2024-12-27    6597.52\n",
       "260 2024-12-30    6585.39\n",
       "261 2024-12-31    6620.06\n",
       "\n",
       "[262 rows x 2 columns]"
      ]
     },
     "execution_count": 16,
     "metadata": {},
     "output_type": "execute_result"
    }
   ],
   "source": [
    "df_2024"
   ]
  },
  {
   "cell_type": "markdown",
   "id": "0daeea12",
   "metadata": {},
   "source": [
    "### Extracting 2025 data"
   ]
  },
  {
   "cell_type": "code",
   "execution_count": 17,
   "id": "822dfd5e",
   "metadata": {},
   "outputs": [],
   "source": [
    "url_2025 = \"https://www.exchange-rates.org/api/v2/rates/GetChartRates?dataDisplayMode=2&from=XAU&to=INR&countryCode=IN&unit=G&karat=22&groupId=2025&dateFrom=2025-1-1&dateTo=2025-12-31&rateFormat=null&regenerateSectionHeader=true&pageCode=PreciousMetalHistoryByCountry\"\n",
    "\n",
    "response_2025 = requests.get(url_2025)\n",
    "data_2025 = response_2025.json()"
   ]
  },
  {
   "cell_type": "code",
   "execution_count": 18,
   "id": "3122fc7e",
   "metadata": {},
   "outputs": [
    {
     "data": {
      "text/plain": [
       "{'ErrorMessage': None,\n",
       " 'SectionHeader': None,\n",
       " 'StatisticsHtml': '<p>This chart shows gold prices in India for 2025. Prices are in Indian Rupees per gram\\r\\n\\r\\nfor 22K gold\\r\\n.</p>',\n",
       " 'FAQHtml': '<section class=\"faq-section wo-title\"><h2>What was the average gold price in India in 2025?</h2>\\n<p>The average price of gold in 2025 was <span class=\"currencySymbol\">₹</span>7,835.23 per gram.</p>\\n<h2>What was the highest gold price in India in 2025?</h2>\\n<p>The high point per gram of\\r\\n22K\\r\\ngold during 2025 was <span class=\"currencySymbol\">₹</span>8,714.51 on June 13, 2025.</p>\\n<h2>What was the lowest gold price in India in 2025?</h2>\\n<p>The low point was <span class=\"currencySymbol\">₹</span>6,617.80 per gram of gold on January 1, 2025.</p>\\n<h2>Was the price of gold in India up or down in 2025?</h2>\\n<p>The price of\\r\\n22K\\r\\ngold in INR was\\r\\nup <span class=\"rate-change rate-green\">+26.97%</span>\\r\\nin 2025.</p>\\n</section>',\n",
       " 'ChartData': '[[D(2025,1,1),R(6617799,3)],[D(2025,1,2),R(6723704,3)],[D(2025,1,3),R(6676081,3)],[D(2025,1,6),R(6653734,3)],[D(2025,1,7),R(6698446,3)],[D(2025,1,8),R(6741716,3)],[D(2025,1,9),R(6762862,3)],[D(2025,1,10),R(6831727,3)],[D(2025,1,13),R(6808163,3)],[D(2025,1,14),R(6823053,3)],[D(2025,1,15),R(6868059,3)],[D(2025,1,16),R(6925567,3)],[D(2025,1,17),R(6895195,3)],[D(2025,1,20),R(6885729,3)],[D(2025,1,21),R(6989108,3)],[D(2025,1,22),R(7022000,3)],[D(2025,1,23),R(7018869,3)],[D(2025,1,24),R(7040096,3)],[D(2025,1,27),R(6985020,3)],[D(2025,1,28),R(7055387,3)],[D(2025,1,29),R(7048267,3)],[D(2025,1,30),R(7136503,3)],[D(2025,1,31),R(7150338,3)],[D(2025,2,3),R(7211008,3)],[D(2025,2,4),R(7291511,3)],[D(2025,2,5),R(7384453,3)],[D(2025,2,6),R(7377777,3)],[D(2025,2,7),R(7402813,3)],[D(2025,2,10),R(7506140,3)],[D(2025,2,11),R(7419231,3)],[D(2025,2,12),R(7439451,3)],[D(2025,2,13),R(7480742,3)],[D(2025,2,14),R(7363282,3)],[D(2025,2,17),R(7416743,3)],[D(2025,2,18),R(7512482,3)],[D(2025,2,19),R(7514305,3)],[D(2025,2,20),R(7492602,3)],[D(2025,2,21),R(7497618,3)],[D(2025,2,24),R(7540058,3)],[D(2025,2,25),R(7478657,3)],[D(2025,2,26),R(7497187,3)],[D(2025,2,27),R(7400899,3)],[D(2025,2,28),R(7367585,3)],[D(2025,3,3),R(7444628,3)],[D(2025,3,4),R(7496334,3)],[D(2025,3,5),R(7466535,3)],[D(2025,3,6),R(7479139,3)],[D(2025,3,7),R(7477204,3)],[D(2025,3,10),R(7433074,3)],[D(2025,3,11),R(7497898,3)],[D(2025,3,12),R(7541758,3)],[D(2025,3,13),R(7649151,3)],[D(2025,3,14),R(7653370,3)],[D(2025,3,17),R(7685280,3)],[D(2025,3,18),R(7745908,3)],[D(2025,3,19),R(7756515,3)],[D(2025,3,20),R(7745853,3)],[D(2025,3,21),R(7661014,3)],[D(2025,3,24),R(7589103,3)],[D(2025,3,25),R(7619642,3)],[D(2025,3,26),R(7629515,3)],[D(2025,3,27),R(7718155,3)],[D(2025,3,28),R(7773123,3)],[D(2025,3,31),R(7867160,3)],[D(2025,4,1),R(7853178,3)],[D(2025,4,2),R(7941385,3)],[D(2025,4,3),R(7826433,3)],[D(2025,4,4),R(7661132,3)],[D(2025,4,7),R(7566580,3)],[D(2025,4,8),R(7602489,3)],[D(2025,4,9),R(7825457,3)],[D(2025,4,10),R(8068740,3)],[D(2025,4,11),R(8207242,3)],[D(2025,4,14),R(8140798,3)],[D(2025,4,15),R(8167083,3)],[D(2025,4,16),R(8432597,3)],[D(2025,4,17),R(8352864,3)],[D(2025,4,18),R(8352864,3)],[D(2025,4,21),R(8615461,3)],[D(2025,4,22),R(8348239,3)],[D(2025,4,23),R(8342062,3)],[D(2025,4,24),R(8448257,3)],[D(2025,4,25),R(8350805,3)],[D(2025,4,28),R(8370777,3)],[D(2025,4,29),R(8330619,3)],[D(2025,4,30),R(8167491,3)],[D(2025,5,1),R(8083632,3)],[D(2025,5,2),R(8084630,3)],[D(2025,5,5),R(8266986,3)],[D(2025,5,6),R(8486622,3)],[D(2025,5,7),R(8412541,3)],[D(2025,5,8),R(8390680,3)],[D(2025,5,9),R(8377691,3)],[D(2025,5,12),R(8099199,3)],[D(2025,5,13),R(8147983,3)],[D(2025,5,14),R(8012772,3)],[D(2025,5,15),R(8175991,3)],[D(2025,5,16),R(8074356,3)],[D(2025,5,19),R(8119627,3)],[D(2025,5,20),R(8309978,3)],[D(2025,5,21),R(8374651,3)],[D(2025,5,22),R(8359907,3)],[D(2025,5,23),R(8418063,3)],[D(2025,5,26),R(8399407,3)],[D(2025,5,27),R(8313371,3)],[D(2025,5,28),R(8268390,3)],[D(2025,5,29),R(8347140,3)],[D(2025,5,30),R(8295795,3)],[D(2025,6,2),R(8529179,3)],[D(2025,6,3),R(8481813,3)],[D(2025,6,4),R(8553307,3)],[D(2025,6,5),R(8509104,3)],[D(2025,6,6),R(8373064,3)],[D(2025,6,9),R(8404074,3)],[D(2025,6,10),R(8386329,3)],[D(2025,6,11),R(8473836,3)],[D(2025,6,12),R(8542978,3)],[D(2025,6,13),R(8714514,3)],[D(2025,6,16),R(8596832,3)],[D(2025,6,17),R(8657839,3)],[D(2025,6,18),R(8618259,3)],[D(2025,6,19),R(8605559,3)],[D(2025,6,20),R(8594988,3)],[D(2025,6,23),R(8542009,3)],[D(2025,6,24),R(8418991,3)],[D(2025,6,25),R(8445181,3)],[D(2025,6,26),R(8389573,3)],[D(2025,6,27),R(8251201,3)],[D(2025,6,30),R(8353427,3)],[D(2025,7,1),R(8433583,3)],[D(2025,7,2),R(8496357,3)],[D(2025,7,3),R(8369923,3)],[D(2025,7,4),R(8419905,3)],[D(2025,7,7),R(8461032,3)],[D(2025,7,8),R(8339933,3)],[D(2025,7,9),R(8386782,3)],[D(2025,7,10),R(8402866,3)]]',\n",
       " 'ChartDataName': 'Gold Price in Indian Rupees'}"
      ]
     },
     "execution_count": 18,
     "metadata": {},
     "output_type": "execute_result"
    }
   ],
   "source": [
    "data_2025"
   ]
  },
  {
   "cell_type": "code",
   "execution_count": 19,
   "id": "2f61db62",
   "metadata": {},
   "outputs": [
    {
     "data": {
      "text/html": [
       "<div>\n",
       "<style scoped>\n",
       "    .dataframe tbody tr th:only-of-type {\n",
       "        vertical-align: middle;\n",
       "    }\n",
       "\n",
       "    .dataframe tbody tr th {\n",
       "        vertical-align: top;\n",
       "    }\n",
       "\n",
       "    .dataframe thead th {\n",
       "        text-align: right;\n",
       "    }\n",
       "</style>\n",
       "<table border=\"1\" class=\"dataframe\">\n",
       "  <thead>\n",
       "    <tr style=\"text-align: right;\">\n",
       "      <th></th>\n",
       "      <th>Date</th>\n",
       "      <th>gold_rate</th>\n",
       "    </tr>\n",
       "  </thead>\n",
       "  <tbody>\n",
       "    <tr>\n",
       "      <th>0</th>\n",
       "      <td>2025-01-01</td>\n",
       "      <td>6617.80</td>\n",
       "    </tr>\n",
       "    <tr>\n",
       "      <th>1</th>\n",
       "      <td>2025-01-02</td>\n",
       "      <td>6723.70</td>\n",
       "    </tr>\n",
       "    <tr>\n",
       "      <th>2</th>\n",
       "      <td>2025-01-03</td>\n",
       "      <td>6676.08</td>\n",
       "    </tr>\n",
       "    <tr>\n",
       "      <th>3</th>\n",
       "      <td>2025-01-06</td>\n",
       "      <td>6653.73</td>\n",
       "    </tr>\n",
       "    <tr>\n",
       "      <th>4</th>\n",
       "      <td>2025-01-07</td>\n",
       "      <td>6698.45</td>\n",
       "    </tr>\n",
       "    <tr>\n",
       "      <th>...</th>\n",
       "      <td>...</td>\n",
       "      <td>...</td>\n",
       "    </tr>\n",
       "    <tr>\n",
       "      <th>132</th>\n",
       "      <td>2025-07-04</td>\n",
       "      <td>8419.91</td>\n",
       "    </tr>\n",
       "    <tr>\n",
       "      <th>133</th>\n",
       "      <td>2025-07-07</td>\n",
       "      <td>8461.03</td>\n",
       "    </tr>\n",
       "    <tr>\n",
       "      <th>134</th>\n",
       "      <td>2025-07-08</td>\n",
       "      <td>8339.93</td>\n",
       "    </tr>\n",
       "    <tr>\n",
       "      <th>135</th>\n",
       "      <td>2025-07-09</td>\n",
       "      <td>8386.78</td>\n",
       "    </tr>\n",
       "    <tr>\n",
       "      <th>136</th>\n",
       "      <td>2025-07-10</td>\n",
       "      <td>8402.87</td>\n",
       "    </tr>\n",
       "  </tbody>\n",
       "</table>\n",
       "<p>137 rows × 2 columns</p>\n",
       "</div>"
      ],
      "text/plain": [
       "          Date  gold_rate\n",
       "0   2025-01-01    6617.80\n",
       "1   2025-01-02    6723.70\n",
       "2   2025-01-03    6676.08\n",
       "3   2025-01-06    6653.73\n",
       "4   2025-01-07    6698.45\n",
       "..         ...        ...\n",
       "132 2025-07-04    8419.91\n",
       "133 2025-07-07    8461.03\n",
       "134 2025-07-08    8339.93\n",
       "135 2025-07-09    8386.78\n",
       "136 2025-07-10    8402.87\n",
       "\n",
       "[137 rows x 2 columns]"
      ]
     },
     "metadata": {},
     "output_type": "display_data"
    }
   ],
   "source": [
    "# Extract the dates and prices for 2024 \n",
    "chart_data_2025 = data_2025['ChartData']\n",
    "\n",
    "pattern = r\"D\\((\\d+),(\\d+),(\\d+)\\),R\\((\\d+),(\\d+)\\)\"\n",
    "\n",
    "matches_2025 = re.findall(pattern, chart_data_2025)\n",
    "\n",
    "parsed_data_2025 = []\n",
    "for year, month, day, value, decimal in matches_2025:\n",
    "    date = datetime(int(year), int(month), int(day))\n",
    "    price = int(value) / (10 ** int(decimal)) # e.g: divide by 1000\n",
    "    parsed_data_2025.append((date, round(price, 2)))\n",
    "    \n",
    "df_2025 = pd.DataFrame(parsed_data_2025, columns=[\"Date\", \"gold_rate\"])\n",
    "display(df_2025)"
   ]
  },
  {
   "cell_type": "code",
   "execution_count": 20,
   "metadata": {},
   "outputs": [
    {
     "data": {
      "text/html": [
       "<div>\n",
       "<style scoped>\n",
       "    .dataframe tbody tr th:only-of-type {\n",
       "        vertical-align: middle;\n",
       "    }\n",
       "\n",
       "    .dataframe tbody tr th {\n",
       "        vertical-align: top;\n",
       "    }\n",
       "\n",
       "    .dataframe thead th {\n",
       "        text-align: right;\n",
       "    }\n",
       "</style>\n",
       "<table border=\"1\" class=\"dataframe\">\n",
       "  <thead>\n",
       "    <tr style=\"text-align: right;\">\n",
       "      <th></th>\n",
       "      <th>Date</th>\n",
       "      <th>gold_rate</th>\n",
       "    </tr>\n",
       "  </thead>\n",
       "  <tbody>\n",
       "    <tr>\n",
       "      <th>0</th>\n",
       "      <td>2024-01-01</td>\n",
       "      <td>5066.31</td>\n",
       "    </tr>\n",
       "    <tr>\n",
       "      <th>1</th>\n",
       "      <td>2024-01-02</td>\n",
       "      <td>5053.34</td>\n",
       "    </tr>\n",
       "    <tr>\n",
       "      <th>2</th>\n",
       "      <td>2024-01-03</td>\n",
       "      <td>5014.55</td>\n",
       "    </tr>\n",
       "    <tr>\n",
       "      <th>3</th>\n",
       "      <td>2024-01-04</td>\n",
       "      <td>5012.48</td>\n",
       "    </tr>\n",
       "    <tr>\n",
       "      <th>4</th>\n",
       "      <td>2024-01-05</td>\n",
       "      <td>5015.20</td>\n",
       "    </tr>\n",
       "    <tr>\n",
       "      <th>...</th>\n",
       "      <td>...</td>\n",
       "      <td>...</td>\n",
       "    </tr>\n",
       "    <tr>\n",
       "      <th>132</th>\n",
       "      <td>2025-07-04</td>\n",
       "      <td>8419.91</td>\n",
       "    </tr>\n",
       "    <tr>\n",
       "      <th>133</th>\n",
       "      <td>2025-07-07</td>\n",
       "      <td>8461.03</td>\n",
       "    </tr>\n",
       "    <tr>\n",
       "      <th>134</th>\n",
       "      <td>2025-07-08</td>\n",
       "      <td>8339.93</td>\n",
       "    </tr>\n",
       "    <tr>\n",
       "      <th>135</th>\n",
       "      <td>2025-07-09</td>\n",
       "      <td>8386.78</td>\n",
       "    </tr>\n",
       "    <tr>\n",
       "      <th>136</th>\n",
       "      <td>2025-07-10</td>\n",
       "      <td>8402.87</td>\n",
       "    </tr>\n",
       "  </tbody>\n",
       "</table>\n",
       "<p>399 rows × 2 columns</p>\n",
       "</div>"
      ],
      "text/plain": [
       "          Date  gold_rate\n",
       "0   2024-01-01    5066.31\n",
       "1   2024-01-02    5053.34\n",
       "2   2024-01-03    5014.55\n",
       "3   2024-01-04    5012.48\n",
       "4   2024-01-05    5015.20\n",
       "..         ...        ...\n",
       "132 2025-07-04    8419.91\n",
       "133 2025-07-07    8461.03\n",
       "134 2025-07-08    8339.93\n",
       "135 2025-07-09    8386.78\n",
       "136 2025-07-10    8402.87\n",
       "\n",
       "[399 rows x 2 columns]"
      ]
     },
     "metadata": {},
     "output_type": "display_data"
    }
   ],
   "source": [
    "# Append the 2024 & 2025\n",
    "gold_data = pd.concat([df_2024, df_2025])\n",
    "display(gold_data)"
   ]
  },
  {
   "cell_type": "code",
   "execution_count": 21,
   "id": "994eaf61",
   "metadata": {},
   "outputs": [
    {
     "data": {
      "text/html": [
       "<div>\n",
       "<style scoped>\n",
       "    .dataframe tbody tr th:only-of-type {\n",
       "        vertical-align: middle;\n",
       "    }\n",
       "\n",
       "    .dataframe tbody tr th {\n",
       "        vertical-align: top;\n",
       "    }\n",
       "\n",
       "    .dataframe thead th {\n",
       "        text-align: right;\n",
       "    }\n",
       "</style>\n",
       "<table border=\"1\" class=\"dataframe\">\n",
       "  <thead>\n",
       "    <tr style=\"text-align: right;\">\n",
       "      <th></th>\n",
       "      <th>Date</th>\n",
       "      <th>USD_INR</th>\n",
       "      <th>gold_rate</th>\n",
       "    </tr>\n",
       "  </thead>\n",
       "  <tbody>\n",
       "    <tr>\n",
       "      <th>0</th>\n",
       "      <td>2024-01-01</td>\n",
       "      <td>83.248596</td>\n",
       "      <td>5066.31</td>\n",
       "    </tr>\n",
       "    <tr>\n",
       "      <th>1</th>\n",
       "      <td>2024-01-02</td>\n",
       "      <td>83.202599</td>\n",
       "      <td>5053.34</td>\n",
       "    </tr>\n",
       "    <tr>\n",
       "      <th>2</th>\n",
       "      <td>2024-01-03</td>\n",
       "      <td>83.257004</td>\n",
       "      <td>5014.55</td>\n",
       "    </tr>\n",
       "    <tr>\n",
       "      <th>3</th>\n",
       "      <td>2024-01-04</td>\n",
       "      <td>83.318100</td>\n",
       "      <td>5012.48</td>\n",
       "    </tr>\n",
       "    <tr>\n",
       "      <th>4</th>\n",
       "      <td>2024-01-05</td>\n",
       "      <td>83.240601</td>\n",
       "      <td>5015.20</td>\n",
       "    </tr>\n",
       "    <tr>\n",
       "      <th>...</th>\n",
       "      <td>...</td>\n",
       "      <td>...</td>\n",
       "      <td>...</td>\n",
       "    </tr>\n",
       "    <tr>\n",
       "      <th>387</th>\n",
       "      <td>2025-06-30</td>\n",
       "      <td>85.455299</td>\n",
       "      <td>8353.43</td>\n",
       "    </tr>\n",
       "    <tr>\n",
       "      <th>388</th>\n",
       "      <td>2025-07-01</td>\n",
       "      <td>85.713997</td>\n",
       "      <td>8433.58</td>\n",
       "    </tr>\n",
       "    <tr>\n",
       "      <th>389</th>\n",
       "      <td>2025-07-02</td>\n",
       "      <td>85.642799</td>\n",
       "      <td>8496.36</td>\n",
       "    </tr>\n",
       "    <tr>\n",
       "      <th>390</th>\n",
       "      <td>2025-07-03</td>\n",
       "      <td>85.694099</td>\n",
       "      <td>8369.92</td>\n",
       "    </tr>\n",
       "    <tr>\n",
       "      <th>391</th>\n",
       "      <td>2025-07-04</td>\n",
       "      <td>85.319099</td>\n",
       "      <td>8419.91</td>\n",
       "    </tr>\n",
       "  </tbody>\n",
       "</table>\n",
       "<p>392 rows × 3 columns</p>\n",
       "</div>"
      ],
      "text/plain": [
       "          Date    USD_INR  gold_rate\n",
       "0   2024-01-01  83.248596    5066.31\n",
       "1   2024-01-02  83.202599    5053.34\n",
       "2   2024-01-03  83.257004    5014.55\n",
       "3   2024-01-04  83.318100    5012.48\n",
       "4   2024-01-05  83.240601    5015.20\n",
       "..         ...        ...        ...\n",
       "387 2025-06-30  85.455299    8353.43\n",
       "388 2025-07-01  85.713997    8433.58\n",
       "389 2025-07-02  85.642799    8496.36\n",
       "390 2025-07-03  85.694099    8369.92\n",
       "391 2025-07-04  85.319099    8419.91\n",
       "\n",
       "[392 rows x 3 columns]"
      ]
     },
     "metadata": {},
     "output_type": "display_data"
    }
   ],
   "source": [
    "# Merge the 2 dataframes \n",
    "gold_dataset = pd.merge(usd_inr, gold_data, on='Date', how='inner')\n",
    "display(gold_dataset)"
   ]
  },
  {
   "cell_type": "markdown",
   "id": "5d17dc1b",
   "metadata": {},
   "source": [
    "## Exploratory Data Analysis"
   ]
  },
  {
   "cell_type": "markdown",
   "id": "09ef1453",
   "metadata": {},
   "source": [
    "-- Handle Missing values - None\n",
    "\n",
    "-- Handle imbalanced dataset - None\n",
    "\n",
    "-- Hande outliers - Noted\n",
    "\n",
    "-- Encode catagorical features - None\n",
    "\n",
    "-- Normalization or Standardisation - Standardisation"
   ]
  },
  {
   "cell_type": "code",
   "execution_count": 25,
   "id": "c95e73ca",
   "metadata": {},
   "outputs": [
    {
     "data": {
      "image/png": "[encoded data removed]",
      "text/plain": [
       "<Figure size 640x480 with 1 Axes>"
      ]
     },
     "metadata": {},
     "output_type": "display_data"
    }
   ],
   "source": [
    "# Visualize the variable in boxplot\n",
    "sns.boxplot(data=gold_dataset, y= 'USD_INR')\n",
    "plt.title(\"Boxplot of USD_INR\")\n",
    "plt.show()"
   ]
  },
  {
   "cell_type": "code",
   "execution_count": 26,
   "id": "af6e49db",
   "metadata": {},
   "outputs": [
    {
     "data": {
      "image/png": "[encoded data removed]",
      "text/plain": [
       "<Figure size 640x480 with 1 Axes>"
      ]
     },
     "metadata": {},
     "output_type": "display_data"
    }
   ],
   "source": [
    "# Visualize the variable in boxplot\n",
    "sns.boxplot(data=gold_dataset, y= 'gold_rate')\n",
    "plt.title(\"Boxplot of gold_rate\")\n",
    "plt.show()"
   ]
  },
  {
   "cell_type": "code",
   "execution_count": 27,
   "id": "42cecb44",
   "metadata": {},
   "outputs": [
    {
     "data": {
      "image/png": "[encoded data removed]",
      "text/plain": [
       "<Figure size 640x480 with 1 Axes>"
      ]
     },
     "metadata": {},
     "output_type": "display_data"
    }
   ],
   "source": [
    "# visualize the relationship between the two variables\n",
    "sns.regplot(data= gold_dataset, x = 'USD_INR', y= 'gold_rate')\n",
    "plt.title(\"Linear Relationship between the two variables\")\n",
    "plt.show()"
   ]
  },
  {
   "cell_type": "markdown",
   "id": "c32285af",
   "metadata": {},
   "source": [
    "**Insight:** As the USD/INR increases, the gold rate also tends to rise, showing a positive relationship between the two variables."
   ]
  },
  {
   "cell_type": "markdown",
   "id": "46344319",
   "metadata": {},
   "source": [
    "## Model training"
   ]
  },
  {
   "cell_type": "markdown",
   "id": "8e9bc229",
   "metadata": {},
   "source": [
    "So basically, I am going to teaching the model: “If I know the USD to INR rate, can I predict the gold rate in INR?”"
   ]
  },
  {
   "cell_type": "code",
   "execution_count": 28,
   "id": "f436a95e",
   "metadata": {},
   "outputs": [],
   "source": [
    "# Assigning the columns to X,y variables\n",
    "X = gold_dataset[['USD_INR']]\n",
    "y = gold_dataset[['gold_rate']]"
   ]
  },
  {
   "cell_type": "code",
   "execution_count": 29,
   "id": "0ea2f29b",
   "metadata": {},
   "outputs": [
    {
     "data": {
      "text/plain": [
       "pandas.core.frame.DataFrame"
      ]
     },
     "execution_count": 29,
     "metadata": {},
     "output_type": "execute_result"
    }
   ],
   "source": [
    "type(X)"
   ]
  },
  {
   "cell_type": "code",
   "execution_count": 30,
   "id": "42ecab9c",
   "metadata": {},
   "outputs": [
    {
     "data": {
      "text/html": [
       "<div>\n",
       "<style scoped>\n",
       "    .dataframe tbody tr th:only-of-type {\n",
       "        vertical-align: middle;\n",
       "    }\n",
       "\n",
       "    .dataframe tbody tr th {\n",
       "        vertical-align: top;\n",
       "    }\n",
       "\n",
       "    .dataframe thead th {\n",
       "        text-align: right;\n",
       "    }\n",
       "</style>\n",
       "<table border=\"1\" class=\"dataframe\">\n",
       "  <thead>\n",
       "    <tr style=\"text-align: right;\">\n",
       "      <th></th>\n",
       "      <th>USD_INR</th>\n",
       "    </tr>\n",
       "  </thead>\n",
       "  <tbody>\n",
       "    <tr>\n",
       "      <th>0</th>\n",
       "      <td>83.248596</td>\n",
       "    </tr>\n",
       "    <tr>\n",
       "      <th>1</th>\n",
       "      <td>83.202599</td>\n",
       "    </tr>\n",
       "    <tr>\n",
       "      <th>2</th>\n",
       "      <td>83.257004</td>\n",
       "    </tr>\n",
       "    <tr>\n",
       "      <th>3</th>\n",
       "      <td>83.318100</td>\n",
       "    </tr>\n",
       "    <tr>\n",
       "      <th>4</th>\n",
       "      <td>83.240601</td>\n",
       "    </tr>\n",
       "  </tbody>\n",
       "</table>\n",
       "</div>"
      ],
      "text/plain": [
       "     USD_INR\n",
       "0  83.248596\n",
       "1  83.202599\n",
       "2  83.257004\n",
       "3  83.318100\n",
       "4  83.240601"
      ]
     },
     "execution_count": 30,
     "metadata": {},
     "output_type": "execute_result"
    }
   ],
   "source": [
    "X.head()"
   ]
  },
  {
   "cell_type": "code",
   "execution_count": 32,
   "id": "08c4ff44",
   "metadata": {},
   "outputs": [],
   "source": [
    "# Splits data into training and test sets\n",
    "X_train, X_test, y_train, y_test = train_test_split(X, y, test_size= 0.1, random_state= 42)"
   ]
  },
  {
   "cell_type": "markdown",
   "id": "aed24af2",
   "metadata": {},
   "source": [
    "X_train\t90% of the input data for training the model\n",
    "\n",
    "X_test\t10% of the input data to test the model\n",
    "\n",
    "y_train\t90% of the output data (gold rates) for training\n",
    "\n",
    "y_test\t10% of the output data to check predictions\n",
    "\n",
    "test_size=0.1\t=10% of the full dataset will be used for testing\n",
    "\n",
    "random_state=42\tKeeps the split the same every time you run it"
   ]
  },
  {
   "cell_type": "code",
   "execution_count": 33,
   "id": "fa0816b2",
   "metadata": {},
   "outputs": [
    {
     "data": {
      "text/plain": [
       "352"
      ]
     },
     "execution_count": 33,
     "metadata": {},
     "output_type": "execute_result"
    }
   ],
   "source": [
    "len(X_train)"
   ]
  },
  {
   "cell_type": "code",
   "execution_count": 35,
   "id": "ee081312",
   "metadata": {},
   "outputs": [],
   "source": [
    "# Transform the values using standardisation\n",
    "scaler = StandardScaler()\n",
    "X_train_scaled = scaler.fit_transform(X_train)\n",
    "X_test_scaled = scaler.transform(X_test)"
   ]
  },
  {
   "cell_type": "markdown",
   "id": "0c6a9335",
   "metadata": {},
   "source": [
    "fit_transform(X_train) → calculates mean & std from training data, then applies scaling\n",
    "\n",
    "transform(X_test) → uses the same mean & std from training to scale test data"
   ]
  },
  {
   "cell_type": "code",
   "execution_count": 36,
   "id": "d2ce5121",
   "metadata": {},
   "outputs": [
    {
     "data": {
      "text/plain": [
       "array([[-0.96891716],\n",
       "       [-0.57899468],\n",
       "       [ 0.94562025],\n",
       "       [-0.6889582 ],\n",
       "       [-0.42133368]])"
      ]
     },
     "execution_count": 36,
     "metadata": {},
     "output_type": "execute_result"
    }
   ],
   "source": [
    "X_train_scaled[:5]"
   ]
  },
  {
   "cell_type": "markdown",
   "id": "e98a7c84",
   "metadata": {},
   "source": [
    "## Using linear regression"
   ]
  },
  {
   "cell_type": "code",
   "execution_count": 38,
   "id": "b8e109d0",
   "metadata": {},
   "outputs": [
    {
     "data": {
      "text/html": [
       "<style>#sk-container-id-1 {\n",
       "  /* Definition of color scheme common for light and dark mode */\n",
       "  --sklearn-color-text: #000;\n",
       "  --sklearn-color-text-muted: #666;\n",
       "  --sklearn-color-line: gray;\n",
       "  /* Definition of color scheme for unfitted estimators */\n",
       "  --sklearn-color-unfitted-level-0: #fff5e6;\n",
       "  --sklearn-color-unfitted-level-1: #f6e4d2;\n",
       "  --sklearn-color-unfitted-level-2: #ffe0b3;\n",
       "  --sklearn-color-unfitted-level-3: chocolate;\n",
       "  /* Definition of color scheme for fitted estimators */\n",
       "  --sklearn-color-fitted-level-0: #f0f8ff;\n",
       "  --sklearn-color-fitted-level-1: #d4ebff;\n",
       "  --sklearn-color-fitted-level-2: #b3dbfd;\n",
       "  --sklearn-color-fitted-level-3: cornflowerblue;\n",
       "\n",
       "  /* Specific color for light theme */\n",
       "  --sklearn-color-text-on-default-background: var(--sg-text-color, var(--theme-code-foreground, var(--jp-content-font-color1, black)));\n",
       "  --sklearn-color-background: var(--sg-background-color, var(--theme-background, var(--jp-layout-color0, white)));\n",
       "  --sklearn-color-border-box: var(--sg-text-color, var(--theme-code-foreground, var(--jp-content-font-color1, black)));\n",
       "  --sklearn-color-icon: #696969;\n",
       "\n",
       "  @media (prefers-color-scheme: dark) {\n",
       "    /* Redefinition of color scheme for dark theme */\n",
       "    --sklearn-color-text-on-default-background: var(--sg-text-color, var(--theme-code-foreground, var(--jp-content-font-color1, white)));\n",
       "    --sklearn-color-background: var(--sg-background-color, var(--theme-background, var(--jp-layout-color0, #111)));\n",
       "    --sklearn-color-border-box: var(--sg-text-color, var(--theme-code-foreground, var(--jp-content-font-color1, white)));\n",
       "    --sklearn-color-icon: #878787;\n",
       "  }\n",
       "}\n",
       "\n",
       "#sk-container-id-1 {\n",
       "  color: var(--sklearn-color-text);\n",
       "}\n",
       "\n",
       "#sk-container-id-1 pre {\n",
       "  padding: 0;\n",
       "}\n",
       "\n",
       "#sk-container-id-1 input.sk-hidden--visually {\n",
       "  border: 0;\n",
       "  clip: rect(1px 1px 1px 1px);\n",
       "  clip: rect(1px, 1px, 1px, 1px);\n",
       "  height: 1px;\n",
       "  margin: -1px;\n",
       "  overflow: hidden;\n",
       "  padding: 0;\n",
       "  position: absolute;\n",
       "  width: 1px;\n",
       "}\n",
       "\n",
       "#sk-container-id-1 div.sk-dashed-wrapped {\n",
       "  border: 1px dashed var(--sklearn-color-line);\n",
       "  margin: 0 0.4em 0.5em 0.4em;\n",
       "  box-sizing: border-box;\n",
       "  padding-bottom: 0.4em;\n",
       "  background-color: var(--sklearn-color-background);\n",
       "}\n",
       "\n",
       "#sk-container-id-1 div.sk-container {\n",
       "  /* jupyter's `normalize.less` sets `[hidden] { display: none; }`\n",
       "     but bootstrap.min.css set `[hidden] { display: none !important; }`\n",
       "     so we also need the `!important` here to be able to override the\n",
       "     default hidden behavior on the sphinx rendered scikit-learn.org.\n",
       "     See: https://github.com/scikit-learn/scikit-learn/issues/21755 */\n",
       "  display: inline-block !important;\n",
       "  position: relative;\n",
       "}\n",
       "\n",
       "#sk-container-id-1 div.sk-text-repr-fallback {\n",
       "  display: none;\n",
       "}\n",
       "\n",
       "div.sk-parallel-item,\n",
       "div.sk-serial,\n",
       "div.sk-item {\n",
       "  /* draw centered vertical line to link estimators */\n",
       "  background-image: linear-gradient(var(--sklearn-color-text-on-default-background), var(--sklearn-color-text-on-default-background));\n",
       "  background-size: 2px 100%;\n",
       "  background-repeat: no-repeat;\n",
       "  background-position: center center;\n",
       "}\n",
       "\n",
       "/* Parallel-specific style estimator block */\n",
       "\n",
       "#sk-container-id-1 div.sk-parallel-item::after {\n",
       "  content: \"\";\n",
       "  width: 100%;\n",
       "  border-bottom: 2px solid var(--sklearn-color-text-on-default-background);\n",
       "  flex-grow: 1;\n",
       "}\n",
       "\n",
       "#sk-container-id-1 div.sk-parallel {\n",
       "  display: flex;\n",
       "  align-items: stretch;\n",
       "  justify-content: center;\n",
       "  background-color: var(--sklearn-color-background);\n",
       "  position: relative;\n",
       "}\n",
       "\n",
       "#sk-container-id-1 div.sk-parallel-item {\n",
       "  display: flex;\n",
       "  flex-direction: column;\n",
       "}\n",
       "\n",
       "#sk-container-id-1 div.sk-parallel-item:first-child::after {\n",
       "  align-self: flex-end;\n",
       "  width: 50%;\n",
       "}\n",
       "\n",
       "#sk-container-id-1 div.sk-parallel-item:last-child::after {\n",
       "  align-self: flex-start;\n",
       "  width: 50%;\n",
       "}\n",
       "\n",
       "#sk-container-id-1 div.sk-parallel-item:only-child::after {\n",
       "  width: 0;\n",
       "}\n",
       "\n",
       "/* Serial-specific style estimator block */\n",
       "\n",
       "#sk-container-id-1 div.sk-serial {\n",
       "  display: flex;\n",
       "  flex-direction: column;\n",
       "  align-items: center;\n",
       "  background-color: var(--sklearn-color-background);\n",
       "  padding-right: 1em;\n",
       "  padding-left: 1em;\n",
       "}\n",
       "\n",
       "\n",
       "/* Toggleable style: style used for estimator/Pipeline/ColumnTransformer box that is\n",
       "clickable and can be expanded/collapsed.\n",
       "- Pipeline and ColumnTransformer use this feature and define the default style\n",
       "- Estimators will overwrite some part of the style using the `sk-estimator` class\n",
       "*/\n",
       "\n",
       "/* Pipeline and ColumnTransformer style (default) */\n",
       "\n",
       "#sk-container-id-1 div.sk-toggleable {\n",
       "  /* Default theme specific background. It is overwritten whether we have a\n",
       "  specific estimator or a Pipeline/ColumnTransformer */\n",
       "  background-color: var(--sklearn-color-background);\n",
       "}\n",
       "\n",
       "/* Toggleable label */\n",
       "#sk-container-id-1 label.sk-toggleable__label {\n",
       "  cursor: pointer;\n",
       "  display: flex;\n",
       "  width: 100%;\n",
       "  margin-bottom: 0;\n",
       "  padding: 0.5em;\n",
       "  box-sizing: border-box;\n",
       "  text-align: center;\n",
       "  align-items: start;\n",
       "  justify-content: space-between;\n",
       "  gap: 0.5em;\n",
       "}\n",
       "\n",
       "#sk-container-id-1 label.sk-toggleable__label .caption {\n",
       "  font-size: 0.6rem;\n",
       "  font-weight: lighter;\n",
       "  color: var(--sklearn-color-text-muted);\n",
       "}\n",
       "\n",
       "#sk-container-id-1 label.sk-toggleable__label-arrow:before {\n",
       "  /* Arrow on the left of the label */\n",
       "  content: \"▸\";\n",
       "  float: left;\n",
       "  margin-right: 0.25em;\n",
       "  color: var(--sklearn-color-icon);\n",
       "}\n",
       "\n",
       "#sk-container-id-1 label.sk-toggleable__label-arrow:hover:before {\n",
       "  color: var(--sklearn-color-text);\n",
       "}\n",
       "\n",
       "/* Toggleable content - dropdown */\n",
       "\n",
       "#sk-container-id-1 div.sk-toggleable__content {\n",
       "  max-height: 0;\n",
       "  max-width: 0;\n",
       "  overflow: hidden;\n",
       "  text-align: left;\n",
       "  /* unfitted */\n",
       "  background-color: var(--sklearn-color-unfitted-level-0);\n",
       "}\n",
       "\n",
       "#sk-container-id-1 div.sk-toggleable__content.fitted {\n",
       "  /* fitted */\n",
       "  background-color: var(--sklearn-color-fitted-level-0);\n",
       "}\n",
       "\n",
       "#sk-container-id-1 div.sk-toggleable__content pre {\n",
       "  margin: 0.2em;\n",
       "  border-radius: 0.25em;\n",
       "  color: var(--sklearn-color-text);\n",
       "  /* unfitted */\n",
       "  background-color: var(--sklearn-color-unfitted-level-0);\n",
       "}\n",
       "\n",
       "#sk-container-id-1 div.sk-toggleable__content.fitted pre {\n",
       "  /* unfitted */\n",
       "  background-color: var(--sklearn-color-fitted-level-0);\n",
       "}\n",
       "\n",
       "#sk-container-id-1 input.sk-toggleable__control:checked~div.sk-toggleable__content {\n",
       "  /* Expand drop-down */\n",
       "  max-height: 200px;\n",
       "  max-width: 100%;\n",
       "  overflow: auto;\n",
       "}\n",
       "\n",
       "#sk-container-id-1 input.sk-toggleable__control:checked~label.sk-toggleable__label-arrow:before {\n",
       "  content: \"▾\";\n",
       "}\n",
       "\n",
       "/* Pipeline/ColumnTransformer-specific style */\n",
       "\n",
       "#sk-container-id-1 div.sk-label input.sk-toggleable__control:checked~label.sk-toggleable__label {\n",
       "  color: var(--sklearn-color-text);\n",
       "  background-color: var(--sklearn-color-unfitted-level-2);\n",
       "}\n",
       "\n",
       "#sk-container-id-1 div.sk-label.fitted input.sk-toggleable__control:checked~label.sk-toggleable__label {\n",
       "  background-color: var(--sklearn-color-fitted-level-2);\n",
       "}\n",
       "\n",
       "/* Estimator-specific style */\n",
       "\n",
       "/* Colorize estimator box */\n",
       "#sk-container-id-1 div.sk-estimator input.sk-toggleable__control:checked~label.sk-toggleable__label {\n",
       "  /* unfitted */\n",
       "  background-color: var(--sklearn-color-unfitted-level-2);\n",
       "}\n",
       "\n",
       "#sk-container-id-1 div.sk-estimator.fitted input.sk-toggleable__control:checked~label.sk-toggleable__label {\n",
       "  /* fitted */\n",
       "  background-color: var(--sklearn-color-fitted-level-2);\n",
       "}\n",
       "\n",
       "#sk-container-id-1 div.sk-label label.sk-toggleable__label,\n",
       "#sk-container-id-1 div.sk-label label {\n",
       "  /* The background is the default theme color */\n",
       "  color: var(--sklearn-color-text-on-default-background);\n",
       "}\n",
       "\n",
       "/* On hover, darken the color of the background */\n",
       "#sk-container-id-1 div.sk-label:hover label.sk-toggleable__label {\n",
       "  color: var(--sklearn-color-text);\n",
       "  background-color: var(--sklearn-color-unfitted-level-2);\n",
       "}\n",
       "\n",
       "/* Label box, darken color on hover, fitted */\n",
       "#sk-container-id-1 div.sk-label.fitted:hover label.sk-toggleable__label.fitted {\n",
       "  color: var(--sklearn-color-text);\n",
       "  background-color: var(--sklearn-color-fitted-level-2);\n",
       "}\n",
       "\n",
       "/* Estimator label */\n",
       "\n",
       "#sk-container-id-1 div.sk-label label {\n",
       "  font-family: monospace;\n",
       "  font-weight: bold;\n",
       "  display: inline-block;\n",
       "  line-height: 1.2em;\n",
       "}\n",
       "\n",
       "#sk-container-id-1 div.sk-label-container {\n",
       "  text-align: center;\n",
       "}\n",
       "\n",
       "/* Estimator-specific */\n",
       "#sk-container-id-1 div.sk-estimator {\n",
       "  font-family: monospace;\n",
       "  border: 1px dotted var(--sklearn-color-border-box);\n",
       "  border-radius: 0.25em;\n",
       "  box-sizing: border-box;\n",
       "  margin-bottom: 0.5em;\n",
       "  /* unfitted */\n",
       "  background-color: var(--sklearn-color-unfitted-level-0);\n",
       "}\n",
       "\n",
       "#sk-container-id-1 div.sk-estimator.fitted {\n",
       "  /* fitted */\n",
       "  background-color: var(--sklearn-color-fitted-level-0);\n",
       "}\n",
       "\n",
       "/* on hover */\n",
       "#sk-container-id-1 div.sk-estimator:hover {\n",
       "  /* unfitted */\n",
       "  background-color: var(--sklearn-color-unfitted-level-2);\n",
       "}\n",
       "\n",
       "#sk-container-id-1 div.sk-estimator.fitted:hover {\n",
       "  /* fitted */\n",
       "  background-color: var(--sklearn-color-fitted-level-2);\n",
       "}\n",
       "\n",
       "/* Specification for estimator info (e.g. \"i\" and \"?\") */\n",
       "\n",
       "/* Common style for \"i\" and \"?\" */\n",
       "\n",
       ".sk-estimator-doc-link,\n",
       "a:link.sk-estimator-doc-link,\n",
       "a:visited.sk-estimator-doc-link {\n",
       "  float: right;\n",
       "  font-size: smaller;\n",
       "  line-height: 1em;\n",
       "  font-family: monospace;\n",
       "  background-color: var(--sklearn-color-background);\n",
       "  border-radius: 1em;\n",
       "  height: 1em;\n",
       "  width: 1em;\n",
       "  text-decoration: none !important;\n",
       "  margin-left: 0.5em;\n",
       "  text-align: center;\n",
       "  /* unfitted */\n",
       "  border: var(--sklearn-color-unfitted-level-1) 1pt solid;\n",
       "  color: var(--sklearn-color-unfitted-level-1);\n",
       "}\n",
       "\n",
       ".sk-estimator-doc-link.fitted,\n",
       "a:link.sk-estimator-doc-link.fitted,\n",
       "a:visited.sk-estimator-doc-link.fitted {\n",
       "  /* fitted */\n",
       "  border: var(--sklearn-color-fitted-level-1) 1pt solid;\n",
       "  color: var(--sklearn-color-fitted-level-1);\n",
       "}\n",
       "\n",
       "/* On hover */\n",
       "div.sk-estimator:hover .sk-estimator-doc-link:hover,\n",
       ".sk-estimator-doc-link:hover,\n",
       "div.sk-label-container:hover .sk-estimator-doc-link:hover,\n",
       ".sk-estimator-doc-link:hover {\n",
       "  /* unfitted */\n",
       "  background-color: var(--sklearn-color-unfitted-level-3);\n",
       "  color: var(--sklearn-color-background);\n",
       "  text-decoration: none;\n",
       "}\n",
       "\n",
       "div.sk-estimator.fitted:hover .sk-estimator-doc-link.fitted:hover,\n",
       ".sk-estimator-doc-link.fitted:hover,\n",
       "div.sk-label-container:hover .sk-estimator-doc-link.fitted:hover,\n",
       ".sk-estimator-doc-link.fitted:hover {\n",
       "  /* fitted */\n",
       "  background-color: var(--sklearn-color-fitted-level-3);\n",
       "  color: var(--sklearn-color-background);\n",
       "  text-decoration: none;\n",
       "}\n",
       "\n",
       "/* Span, style for the box shown on hovering the info icon */\n",
       ".sk-estimator-doc-link span {\n",
       "  display: none;\n",
       "  z-index: 9999;\n",
       "  position: relative;\n",
       "  font-weight: normal;\n",
       "  right: .2ex;\n",
       "  padding: .5ex;\n",
       "  margin: .5ex;\n",
       "  width: min-content;\n",
       "  min-width: 20ex;\n",
       "  max-width: 50ex;\n",
       "  color: var(--sklearn-color-text);\n",
       "  box-shadow: 2pt 2pt 4pt #999;\n",
       "  /* unfitted */\n",
       "  background: var(--sklearn-color-unfitted-level-0);\n",
       "  border: .5pt solid var(--sklearn-color-unfitted-level-3);\n",
       "}\n",
       "\n",
       ".sk-estimator-doc-link.fitted span {\n",
       "  /* fitted */\n",
       "  background: var(--sklearn-color-fitted-level-0);\n",
       "  border: var(--sklearn-color-fitted-level-3);\n",
       "}\n",
       "\n",
       ".sk-estimator-doc-link:hover span {\n",
       "  display: block;\n",
       "}\n",
       "\n",
       "/* \"?\"-specific style due to the `<a>` HTML tag */\n",
       "\n",
       "#sk-container-id-1 a.estimator_doc_link {\n",
       "  float: right;\n",
       "  font-size: 1rem;\n",
       "  line-height: 1em;\n",
       "  font-family: monospace;\n",
       "  background-color: var(--sklearn-color-background);\n",
       "  border-radius: 1rem;\n",
       "  height: 1rem;\n",
       "  width: 1rem;\n",
       "  text-decoration: none;\n",
       "  /* unfitted */\n",
       "  color: var(--sklearn-color-unfitted-level-1);\n",
       "  border: var(--sklearn-color-unfitted-level-1) 1pt solid;\n",
       "}\n",
       "\n",
       "#sk-container-id-1 a.estimator_doc_link.fitted {\n",
       "  /* fitted */\n",
       "  border: var(--sklearn-color-fitted-level-1) 1pt solid;\n",
       "  color: var(--sklearn-color-fitted-level-1);\n",
       "}\n",
       "\n",
       "/* On hover */\n",
       "#sk-container-id-1 a.estimator_doc_link:hover {\n",
       "  /* unfitted */\n",
       "  background-color: var(--sklearn-color-unfitted-level-3);\n",
       "  color: var(--sklearn-color-background);\n",
       "  text-decoration: none;\n",
       "}\n",
       "\n",
       "#sk-container-id-1 a.estimator_doc_link.fitted:hover {\n",
       "  /* fitted */\n",
       "  background-color: var(--sklearn-color-fitted-level-3);\n",
       "}\n",
       "</style><div id=\"sk-container-id-1\" class=\"sk-top-container\"><div class=\"sk-text-repr-fallback\"><pre>LinearRegression()</pre><b>In a Jupyter environment, please rerun this cell to show the HTML representation or trust the notebook. <br />On GitHub, the HTML representation is unable to render, please try loading this page with nbviewer.org.</b></div><div class=\"sk-container\" hidden><div class=\"sk-item\"><div class=\"sk-estimator fitted sk-toggleable\"><input class=\"sk-toggleable__control sk-hidden--visually\" id=\"sk-estimator-id-1\" type=\"checkbox\" checked><label for=\"sk-estimator-id-1\" class=\"sk-toggleable__label fitted sk-toggleable__label-arrow\"><div><div>LinearRegression</div></div><div><a class=\"sk-estimator-doc-link fitted\" rel=\"noreferrer\" target=\"_blank\" href=\"https://scikit-learn.org/1.6/modules/generated/sklearn.linear_model.LinearRegression.html\">?<span>Documentation for LinearRegression</span></a><span class=\"sk-estimator-doc-link fitted\">i<span>Fitted</span></span></div></label><div class=\"sk-toggleable__content fitted\"><pre>LinearRegression()</pre></div> </div></div></div></div>"
      ],
      "text/plain": [
       "LinearRegression()"
      ]
     },
     "execution_count": 38,
     "metadata": {},
     "output_type": "execute_result"
    }
   ],
   "source": [
    "# Build the model to learn the releationship between the two variables\n",
    "regressor = LinearRegression()\n",
    "\n",
    "regressor.fit(X_train_scaled, y_train)   "
   ]
  },
  {
   "cell_type": "code",
   "execution_count": null,
   "id": "5be4f01f",
   "metadata": {},
   "outputs": [
    {
     "data": {
      "text/plain": [
       "{'copy_X': True, 'fit_intercept': True, 'n_jobs': None, 'positive': False}"
      ]
     },
     "execution_count": 39,
     "metadata": {},
     "output_type": "execute_result"
    }
   ],
   "source": [
    "# Print the model's parameters\n",
    "regressor.get_params()"
   ]
  },
  {
   "cell_type": "code",
   "execution_count": null,
   "id": "e7e81e01",
   "metadata": {},
   "outputs": [
    {
     "data": {
      "text/plain": [
       "array([[874.92586566]])"
      ]
     },
     "execution_count": 40,
     "metadata": {},
     "output_type": "execute_result"
    }
   ],
   "source": [
    "# Print the slope(m) value\n",
    "regressor.coef_"
   ]
  },
  {
   "cell_type": "code",
   "execution_count": 41,
   "id": "4a161995",
   "metadata": {},
   "outputs": [
    {
     "data": {
      "text/plain": [
       "array([6540.76110795])"
      ]
     },
     "execution_count": 41,
     "metadata": {},
     "output_type": "execute_result"
    }
   ],
   "source": [
    "# Print the intercept(b)\n",
    "regressor.intercept_"
   ]
  },
  {
   "cell_type": "code",
   "execution_count": 42,
   "id": "955fc56e",
   "metadata": {},
   "outputs": [],
   "source": [
    "# y = mx + b\n",
    "m = regressor.coef_[0][0]\n",
    "b = regressor.intercept_[0]"
   ]
  },
  {
   "cell_type": "code",
   "execution_count": 43,
   "id": "cd381651",
   "metadata": {},
   "outputs": [
    {
     "data": {
      "text/plain": [
       "(np.float64(874.9258656619443), np.float64(6540.761107954547))"
      ]
     },
     "execution_count": 43,
     "metadata": {},
     "output_type": "execute_result"
    }
   ],
   "source": [
    "m, b"
   ]
  },
  {
   "cell_type": "code",
   "execution_count": 44,
   "id": "897fe2c5",
   "metadata": {},
   "outputs": [],
   "source": [
    "# Predic the gold_rate from the training\n",
    "X_train_predict = regressor.predict(X_train_scaled)"
   ]
  },
  {
   "cell_type": "code",
   "execution_count": 45,
   "id": "e021be04",
   "metadata": {},
   "outputs": [
    {
     "data": {
      "text/plain": [
       "array([[5693.0304213 ],\n",
       "       [6034.18368246],\n",
       "       [7368.10872511],\n",
       "       [5937.97376136],\n",
       "       [6172.12537696]])"
      ]
     },
     "execution_count": 45,
     "metadata": {},
     "output_type": "execute_result"
    }
   ],
   "source": [
    "X_train_predict[:5]"
   ]
  },
  {
   "cell_type": "markdown",
   "id": "6bcf45eb",
   "metadata": {},
   "source": [
    "### Visualize actual vs prediction"
   ]
  },
  {
   "cell_type": "code",
   "execution_count": 71,
   "id": "5823c50e",
   "metadata": {},
   "outputs": [
    {
     "data": {
      "image/png": "[encoded data removed]",
      "text/plain": [
       "<Figure size 640x480 with 1 Axes>"
      ]
     },
     "metadata": {},
     "output_type": "display_data"
    }
   ],
   "source": [
    "plt.scatter(X_train, y_train)   # Scatter plot (dots) of actual data\n",
    "plt.plot(X_train, X_train_predict, color = \"Red\")   # Line plot of model predictions\n",
    "plt.xlabel(\"USD_INR\")\n",
    "plt.ylabel(\"Gold Rate\")\n",
    "plt.title(\"Gold Price Prediction vs Actual using Linear regression\")\n",
    "\n",
    "plt.show()"
   ]
  },
  {
   "cell_type": "markdown",
   "id": "8a717254",
   "metadata": {},
   "source": [
    "Dots = Real values\n",
    "\n",
    "Line = Model’s predicted values"
   ]
  },
  {
   "cell_type": "code",
   "execution_count": 47,
   "id": "dee99bf9",
   "metadata": {},
   "outputs": [],
   "source": [
    "# Predict the test data\n",
    "X_test_predict = regressor.predict(X_test_scaled)"
   ]
  },
  {
   "cell_type": "code",
   "execution_count": 48,
   "id": "d0622483",
   "metadata": {},
   "outputs": [
    {
     "data": {
      "text/plain": [
       "array([[5943.5033628 ],\n",
       "       [7948.06361089],\n",
       "       [6787.27424692],\n",
       "       [5466.90315754],\n",
       "       [7197.19517463],\n",
       "       [6177.04800819],\n",
       "       [5506.88088994],\n",
       "       [6474.30909352],\n",
       "       [6032.49651105],\n",
       "       [5899.00421676],\n",
       "       [5593.1169532 ],\n",
       "       [6242.51334533],\n",
       "       [8463.90083914],\n",
       "       [6141.72028481],\n",
       "       [7706.76209205],\n",
       "       [7024.59959655],\n",
       "       [5947.41266241],\n",
       "       [7619.8573328 ],\n",
       "       [7857.45016083],\n",
       "       [7705.54815164],\n",
       "       [5625.88305656],\n",
       "       [7371.61166332],\n",
       "       [6574.15569203],\n",
       "       [5709.41347298],\n",
       "       [5892.60016673],\n",
       "       [5798.54550424],\n",
       "       [5991.84493885],\n",
       "       [5570.86480827],\n",
       "       [5754.18524122],\n",
       "       [5882.95551307],\n",
       "       [6037.55288147],\n",
       "       [6853.14594547],\n",
       "       [8584.58503336],\n",
       "       [6867.10111633],\n",
       "       [5798.00540364],\n",
       "       [7808.97484558],\n",
       "       [5874.19045183],\n",
       "       [5570.39157727],\n",
       "       [5820.05179595],\n",
       "       [5541.33416472]])"
      ]
     },
     "execution_count": 48,
     "metadata": {},
     "output_type": "execute_result"
    }
   ],
   "source": [
    "X_test_predict"
   ]
  },
  {
   "cell_type": "code",
   "execution_count": null,
   "id": "86257646",
   "metadata": {},
   "outputs": [
    {
     "name": "stdout",
     "output_type": "stream",
     "text": [
      "Simple Linear Regression: \n",
      "Mean Absolute Error (MAE): 463.97\n",
      "Mean Squared Error (MSE): 373678.68\n",
      "R² Score: 0.6720\n"
     ]
    }
   ],
   "source": [
    "# Calculate evaluation metrics for X_train_Lr model\n",
    "mae = mean_absolute_error(y_train, X_train_predict)\n",
    "mse = mean_squared_error(y_train, X_train_predict)\n",
    "r2 = r2_score(y_train, X_train_predict)\n",
    "\n",
    "print(\"Simple Linear Regression: \")\n",
    "print(f\"Mean Absolute Error (MAE): {mae:.2f}\")\n",
    "print(f\"Mean Squared Error (MSE): {mse:.2f}\")\n",
    "print(f\"R² Score: {r2:.4f}\")"
   ]
  },
  {
   "cell_type": "code",
   "execution_count": null,
   "id": "2cfba5aa",
   "metadata": {},
   "outputs": [
    {
     "name": "stdout",
     "output_type": "stream",
     "text": [
      "Simple Linear Regression: \n",
      "Mean Absolute Error (MAE): 484.32\n",
      "Mean Squared Error (MSE): 419475.23\n",
      "R² Score: 0.6769\n"
     ]
    }
   ],
   "source": [
    "# Calculate evaluation metrics for X_test_Lr model\n",
    "mae = mean_absolute_error(y_test, X_test_predict)\n",
    "mse = mean_squared_error(y_test, X_test_predict)\n",
    "r2 = r2_score(y_test, X_test_predict)\n",
    "\n",
    "print(\"Simple Linear Regression: \")\n",
    "print(f\"Mean Absolute Error (MAE): {mae:.2f}\")\n",
    "print(f\"Mean Squared Error (MSE): {mse:.2f}\")\n",
    "print(f\"R² Score: {r2:.4f}\")"
   ]
  },
  {
   "cell_type": "markdown",
   "id": "5189bd09",
   "metadata": {},
   "source": [
    "| Metric | Ideal Value | Meaning                           |\n",
    "| ------ | ----------- | --------------------------------- |\n",
    "| MAE    | Close to 0  | Smaller = Better (fewer ₹ errors) |\n",
    "| MSE    | Close to 0  | Lower = Better (no large errors)  |\n",
    "| R²     | Close to 1  | Higher = Better (model fits well) |\n"
   ]
  },
  {
   "cell_type": "markdown",
   "id": "f5931b56",
   "metadata": {},
   "source": [
    "## Using Random Forest Regressor"
   ]
  },
  {
   "cell_type": "code",
   "execution_count": 52,
   "id": "75f855b7",
   "metadata": {},
   "outputs": [
    {
     "name": "stderr",
     "output_type": "stream",
     "text": [
      "c:\\Users\\sanka\\anaconda3\\envs\\learning\\Lib\\site-packages\\sklearn\\base.py:1389: DataConversionWarning: A column-vector y was passed when a 1d array was expected. Please change the shape of y to (n_samples,), for example using ravel().\n",
      "  return fit_method(estimator, *args, **kwargs)\n"
     ]
    },
    {
     "data": {
      "text/html": [
       "<style>#sk-container-id-2 {\n",
       "  /* Definition of color scheme common for light and dark mode */\n",
       "  --sklearn-color-text: #000;\n",
       "  --sklearn-color-text-muted: #666;\n",
       "  --sklearn-color-line: gray;\n",
       "  /* Definition of color scheme for unfitted estimators */\n",
       "  --sklearn-color-unfitted-level-0: #fff5e6;\n",
       "  --sklearn-color-unfitted-level-1: #f6e4d2;\n",
       "  --sklearn-color-unfitted-level-2: #ffe0b3;\n",
       "  --sklearn-color-unfitted-level-3: chocolate;\n",
       "  /* Definition of color scheme for fitted estimators */\n",
       "  --sklearn-color-fitted-level-0: #f0f8ff;\n",
       "  --sklearn-color-fitted-level-1: #d4ebff;\n",
       "  --sklearn-color-fitted-level-2: #b3dbfd;\n",
       "  --sklearn-color-fitted-level-3: cornflowerblue;\n",
       "\n",
       "  /* Specific color for light theme */\n",
       "  --sklearn-color-text-on-default-background: var(--sg-text-color, var(--theme-code-foreground, var(--jp-content-font-color1, black)));\n",
       "  --sklearn-color-background: var(--sg-background-color, var(--theme-background, var(--jp-layout-color0, white)));\n",
       "  --sklearn-color-border-box: var(--sg-text-color, var(--theme-code-foreground, var(--jp-content-font-color1, black)));\n",
       "  --sklearn-color-icon: #696969;\n",
       "\n",
       "  @media (prefers-color-scheme: dark) {\n",
       "    /* Redefinition of color scheme for dark theme */\n",
       "    --sklearn-color-text-on-default-background: var(--sg-text-color, var(--theme-code-foreground, var(--jp-content-font-color1, white)));\n",
       "    --sklearn-color-background: var(--sg-background-color, var(--theme-background, var(--jp-layout-color0, #111)));\n",
       "    --sklearn-color-border-box: var(--sg-text-color, var(--theme-code-foreground, var(--jp-content-font-color1, white)));\n",
       "    --sklearn-color-icon: #878787;\n",
       "  }\n",
       "}\n",
       "\n",
       "#sk-container-id-2 {\n",
       "  color: var(--sklearn-color-text);\n",
       "}\n",
       "\n",
       "#sk-container-id-2 pre {\n",
       "  padding: 0;\n",
       "}\n",
       "\n",
       "#sk-container-id-2 input.sk-hidden--visually {\n",
       "  border: 0;\n",
       "  clip: rect(1px 1px 1px 1px);\n",
       "  clip: rect(1px, 1px, 1px, 1px);\n",
       "  height: 1px;\n",
       "  margin: -1px;\n",
       "  overflow: hidden;\n",
       "  padding: 0;\n",
       "  position: absolute;\n",
       "  width: 1px;\n",
       "}\n",
       "\n",
       "#sk-container-id-2 div.sk-dashed-wrapped {\n",
       "  border: 1px dashed var(--sklearn-color-line);\n",
       "  margin: 0 0.4em 0.5em 0.4em;\n",
       "  box-sizing: border-box;\n",
       "  padding-bottom: 0.4em;\n",
       "  background-color: var(--sklearn-color-background);\n",
       "}\n",
       "\n",
       "#sk-container-id-2 div.sk-container {\n",
       "  /* jupyter's `normalize.less` sets `[hidden] { display: none; }`\n",
       "     but bootstrap.min.css set `[hidden] { display: none !important; }`\n",
       "     so we also need the `!important` here to be able to override the\n",
       "     default hidden behavior on the sphinx rendered scikit-learn.org.\n",
       "     See: https://github.com/scikit-learn/scikit-learn/issues/21755 */\n",
       "  display: inline-block !important;\n",
       "  position: relative;\n",
       "}\n",
       "\n",
       "#sk-container-id-2 div.sk-text-repr-fallback {\n",
       "  display: none;\n",
       "}\n",
       "\n",
       "div.sk-parallel-item,\n",
       "div.sk-serial,\n",
       "div.sk-item {\n",
       "  /* draw centered vertical line to link estimators */\n",
       "  background-image: linear-gradient(var(--sklearn-color-text-on-default-background), var(--sklearn-color-text-on-default-background));\n",
       "  background-size: 2px 100%;\n",
       "  background-repeat: no-repeat;\n",
       "  background-position: center center;\n",
       "}\n",
       "\n",
       "/* Parallel-specific style estimator block */\n",
       "\n",
       "#sk-container-id-2 div.sk-parallel-item::after {\n",
       "  content: \"\";\n",
       "  width: 100%;\n",
       "  border-bottom: 2px solid var(--sklearn-color-text-on-default-background);\n",
       "  flex-grow: 1;\n",
       "}\n",
       "\n",
       "#sk-container-id-2 div.sk-parallel {\n",
       "  display: flex;\n",
       "  align-items: stretch;\n",
       "  justify-content: center;\n",
       "  background-color: var(--sklearn-color-background);\n",
       "  position: relative;\n",
       "}\n",
       "\n",
       "#sk-container-id-2 div.sk-parallel-item {\n",
       "  display: flex;\n",
       "  flex-direction: column;\n",
       "}\n",
       "\n",
       "#sk-container-id-2 div.sk-parallel-item:first-child::after {\n",
       "  align-self: flex-end;\n",
       "  width: 50%;\n",
       "}\n",
       "\n",
       "#sk-container-id-2 div.sk-parallel-item:last-child::after {\n",
       "  align-self: flex-start;\n",
       "  width: 50%;\n",
       "}\n",
       "\n",
       "#sk-container-id-2 div.sk-parallel-item:only-child::after {\n",
       "  width: 0;\n",
       "}\n",
       "\n",
       "/* Serial-specific style estimator block */\n",
       "\n",
       "#sk-container-id-2 div.sk-serial {\n",
       "  display: flex;\n",
       "  flex-direction: column;\n",
       "  align-items: center;\n",
       "  background-color: var(--sklearn-color-background);\n",
       "  padding-right: 1em;\n",
       "  padding-left: 1em;\n",
       "}\n",
       "\n",
       "\n",
       "/* Toggleable style: style used for estimator/Pipeline/ColumnTransformer box that is\n",
       "clickable and can be expanded/collapsed.\n",
       "- Pipeline and ColumnTransformer use this feature and define the default style\n",
       "- Estimators will overwrite some part of the style using the `sk-estimator` class\n",
       "*/\n",
       "\n",
       "/* Pipeline and ColumnTransformer style (default) */\n",
       "\n",
       "#sk-container-id-2 div.sk-toggleable {\n",
       "  /* Default theme specific background. It is overwritten whether we have a\n",
       "  specific estimator or a Pipeline/ColumnTransformer */\n",
       "  background-color: var(--sklearn-color-background);\n",
       "}\n",
       "\n",
       "/* Toggleable label */\n",
       "#sk-container-id-2 label.sk-toggleable__label {\n",
       "  cursor: pointer;\n",
       "  display: flex;\n",
       "  width: 100%;\n",
       "  margin-bottom: 0;\n",
       "  padding: 0.5em;\n",
       "  box-sizing: border-box;\n",
       "  text-align: center;\n",
       "  align-items: start;\n",
       "  justify-content: space-between;\n",
       "  gap: 0.5em;\n",
       "}\n",
       "\n",
       "#sk-container-id-2 label.sk-toggleable__label .caption {\n",
       "  font-size: 0.6rem;\n",
       "  font-weight: lighter;\n",
       "  color: var(--sklearn-color-text-muted);\n",
       "}\n",
       "\n",
       "#sk-container-id-2 label.sk-toggleable__label-arrow:before {\n",
       "  /* Arrow on the left of the label */\n",
       "  content: \"▸\";\n",
       "  float: left;\n",
       "  margin-right: 0.25em;\n",
       "  color: var(--sklearn-color-icon);\n",
       "}\n",
       "\n",
       "#sk-container-id-2 label.sk-toggleable__label-arrow:hover:before {\n",
       "  color: var(--sklearn-color-text);\n",
       "}\n",
       "\n",
       "/* Toggleable content - dropdown */\n",
       "\n",
       "#sk-container-id-2 div.sk-toggleable__content {\n",
       "  max-height: 0;\n",
       "  max-width: 0;\n",
       "  overflow: hidden;\n",
       "  text-align: left;\n",
       "  /* unfitted */\n",
       "  background-color: var(--sklearn-color-unfitted-level-0);\n",
       "}\n",
       "\n",
       "#sk-container-id-2 div.sk-toggleable__content.fitted {\n",
       "  /* fitted */\n",
       "  background-color: var(--sklearn-color-fitted-level-0);\n",
       "}\n",
       "\n",
       "#sk-container-id-2 div.sk-toggleable__content pre {\n",
       "  margin: 0.2em;\n",
       "  border-radius: 0.25em;\n",
       "  color: var(--sklearn-color-text);\n",
       "  /* unfitted */\n",
       "  background-color: var(--sklearn-color-unfitted-level-0);\n",
       "}\n",
       "\n",
       "#sk-container-id-2 div.sk-toggleable__content.fitted pre {\n",
       "  /* unfitted */\n",
       "  background-color: var(--sklearn-color-fitted-level-0);\n",
       "}\n",
       "\n",
       "#sk-container-id-2 input.sk-toggleable__control:checked~div.sk-toggleable__content {\n",
       "  /* Expand drop-down */\n",
       "  max-height: 200px;\n",
       "  max-width: 100%;\n",
       "  overflow: auto;\n",
       "}\n",
       "\n",
       "#sk-container-id-2 input.sk-toggleable__control:checked~label.sk-toggleable__label-arrow:before {\n",
       "  content: \"▾\";\n",
       "}\n",
       "\n",
       "/* Pipeline/ColumnTransformer-specific style */\n",
       "\n",
       "#sk-container-id-2 div.sk-label input.sk-toggleable__control:checked~label.sk-toggleable__label {\n",
       "  color: var(--sklearn-color-text);\n",
       "  background-color: var(--sklearn-color-unfitted-level-2);\n",
       "}\n",
       "\n",
       "#sk-container-id-2 div.sk-label.fitted input.sk-toggleable__control:checked~label.sk-toggleable__label {\n",
       "  background-color: var(--sklearn-color-fitted-level-2);\n",
       "}\n",
       "\n",
       "/* Estimator-specific style */\n",
       "\n",
       "/* Colorize estimator box */\n",
       "#sk-container-id-2 div.sk-estimator input.sk-toggleable__control:checked~label.sk-toggleable__label {\n",
       "  /* unfitted */\n",
       "  background-color: var(--sklearn-color-unfitted-level-2);\n",
       "}\n",
       "\n",
       "#sk-container-id-2 div.sk-estimator.fitted input.sk-toggleable__control:checked~label.sk-toggleable__label {\n",
       "  /* fitted */\n",
       "  background-color: var(--sklearn-color-fitted-level-2);\n",
       "}\n",
       "\n",
       "#sk-container-id-2 div.sk-label label.sk-toggleable__label,\n",
       "#sk-container-id-2 div.sk-label label {\n",
       "  /* The background is the default theme color */\n",
       "  color: var(--sklearn-color-text-on-default-background);\n",
       "}\n",
       "\n",
       "/* On hover, darken the color of the background */\n",
       "#sk-container-id-2 div.sk-label:hover label.sk-toggleable__label {\n",
       "  color: var(--sklearn-color-text);\n",
       "  background-color: var(--sklearn-color-unfitted-level-2);\n",
       "}\n",
       "\n",
       "/* Label box, darken color on hover, fitted */\n",
       "#sk-container-id-2 div.sk-label.fitted:hover label.sk-toggleable__label.fitted {\n",
       "  color: var(--sklearn-color-text);\n",
       "  background-color: var(--sklearn-color-fitted-level-2);\n",
       "}\n",
       "\n",
       "/* Estimator label */\n",
       "\n",
       "#sk-container-id-2 div.sk-label label {\n",
       "  font-family: monospace;\n",
       "  font-weight: bold;\n",
       "  display: inline-block;\n",
       "  line-height: 1.2em;\n",
       "}\n",
       "\n",
       "#sk-container-id-2 div.sk-label-container {\n",
       "  text-align: center;\n",
       "}\n",
       "\n",
       "/* Estimator-specific */\n",
       "#sk-container-id-2 div.sk-estimator {\n",
       "  font-family: monospace;\n",
       "  border: 1px dotted var(--sklearn-color-border-box);\n",
       "  border-radius: 0.25em;\n",
       "  box-sizing: border-box;\n",
       "  margin-bottom: 0.5em;\n",
       "  /* unfitted */\n",
       "  background-color: var(--sklearn-color-unfitted-level-0);\n",
       "}\n",
       "\n",
       "#sk-container-id-2 div.sk-estimator.fitted {\n",
       "  /* fitted */\n",
       "  background-color: var(--sklearn-color-fitted-level-0);\n",
       "}\n",
       "\n",
       "/* on hover */\n",
       "#sk-container-id-2 div.sk-estimator:hover {\n",
       "  /* unfitted */\n",
       "  background-color: var(--sklearn-color-unfitted-level-2);\n",
       "}\n",
       "\n",
       "#sk-container-id-2 div.sk-estimator.fitted:hover {\n",
       "  /* fitted */\n",
       "  background-color: var(--sklearn-color-fitted-level-2);\n",
       "}\n",
       "\n",
       "/* Specification for estimator info (e.g. \"i\" and \"?\") */\n",
       "\n",
       "/* Common style for \"i\" and \"?\" */\n",
       "\n",
       ".sk-estimator-doc-link,\n",
       "a:link.sk-estimator-doc-link,\n",
       "a:visited.sk-estimator-doc-link {\n",
       "  float: right;\n",
       "  font-size: smaller;\n",
       "  line-height: 1em;\n",
       "  font-family: monospace;\n",
       "  background-color: var(--sklearn-color-background);\n",
       "  border-radius: 1em;\n",
       "  height: 1em;\n",
       "  width: 1em;\n",
       "  text-decoration: none !important;\n",
       "  margin-left: 0.5em;\n",
       "  text-align: center;\n",
       "  /* unfitted */\n",
       "  border: var(--sklearn-color-unfitted-level-1) 1pt solid;\n",
       "  color: var(--sklearn-color-unfitted-level-1);\n",
       "}\n",
       "\n",
       ".sk-estimator-doc-link.fitted,\n",
       "a:link.sk-estimator-doc-link.fitted,\n",
       "a:visited.sk-estimator-doc-link.fitted {\n",
       "  /* fitted */\n",
       "  border: var(--sklearn-color-fitted-level-1) 1pt solid;\n",
       "  color: var(--sklearn-color-fitted-level-1);\n",
       "}\n",
       "\n",
       "/* On hover */\n",
       "div.sk-estimator:hover .sk-estimator-doc-link:hover,\n",
       ".sk-estimator-doc-link:hover,\n",
       "div.sk-label-container:hover .sk-estimator-doc-link:hover,\n",
       ".sk-estimator-doc-link:hover {\n",
       "  /* unfitted */\n",
       "  background-color: var(--sklearn-color-unfitted-level-3);\n",
       "  color: var(--sklearn-color-background);\n",
       "  text-decoration: none;\n",
       "}\n",
       "\n",
       "div.sk-estimator.fitted:hover .sk-estimator-doc-link.fitted:hover,\n",
       ".sk-estimator-doc-link.fitted:hover,\n",
       "div.sk-label-container:hover .sk-estimator-doc-link.fitted:hover,\n",
       ".sk-estimator-doc-link.fitted:hover {\n",
       "  /* fitted */\n",
       "  background-color: var(--sklearn-color-fitted-level-3);\n",
       "  color: var(--sklearn-color-background);\n",
       "  text-decoration: none;\n",
       "}\n",
       "\n",
       "/* Span, style for the box shown on hovering the info icon */\n",
       ".sk-estimator-doc-link span {\n",
       "  display: none;\n",
       "  z-index: 9999;\n",
       "  position: relative;\n",
       "  font-weight: normal;\n",
       "  right: .2ex;\n",
       "  padding: .5ex;\n",
       "  margin: .5ex;\n",
       "  width: min-content;\n",
       "  min-width: 20ex;\n",
       "  max-width: 50ex;\n",
       "  color: var(--sklearn-color-text);\n",
       "  box-shadow: 2pt 2pt 4pt #999;\n",
       "  /* unfitted */\n",
       "  background: var(--sklearn-color-unfitted-level-0);\n",
       "  border: .5pt solid var(--sklearn-color-unfitted-level-3);\n",
       "}\n",
       "\n",
       ".sk-estimator-doc-link.fitted span {\n",
       "  /* fitted */\n",
       "  background: var(--sklearn-color-fitted-level-0);\n",
       "  border: var(--sklearn-color-fitted-level-3);\n",
       "}\n",
       "\n",
       ".sk-estimator-doc-link:hover span {\n",
       "  display: block;\n",
       "}\n",
       "\n",
       "/* \"?\"-specific style due to the `<a>` HTML tag */\n",
       "\n",
       "#sk-container-id-2 a.estimator_doc_link {\n",
       "  float: right;\n",
       "  font-size: 1rem;\n",
       "  line-height: 1em;\n",
       "  font-family: monospace;\n",
       "  background-color: var(--sklearn-color-background);\n",
       "  border-radius: 1rem;\n",
       "  height: 1rem;\n",
       "  width: 1rem;\n",
       "  text-decoration: none;\n",
       "  /* unfitted */\n",
       "  color: var(--sklearn-color-unfitted-level-1);\n",
       "  border: var(--sklearn-color-unfitted-level-1) 1pt solid;\n",
       "}\n",
       "\n",
       "#sk-container-id-2 a.estimator_doc_link.fitted {\n",
       "  /* fitted */\n",
       "  border: var(--sklearn-color-fitted-level-1) 1pt solid;\n",
       "  color: var(--sklearn-color-fitted-level-1);\n",
       "}\n",
       "\n",
       "/* On hover */\n",
       "#sk-container-id-2 a.estimator_doc_link:hover {\n",
       "  /* unfitted */\n",
       "  background-color: var(--sklearn-color-unfitted-level-3);\n",
       "  color: var(--sklearn-color-background);\n",
       "  text-decoration: none;\n",
       "}\n",
       "\n",
       "#sk-container-id-2 a.estimator_doc_link.fitted:hover {\n",
       "  /* fitted */\n",
       "  background-color: var(--sklearn-color-fitted-level-3);\n",
       "}\n",
       "</style><div id=\"sk-container-id-2\" class=\"sk-top-container\"><div class=\"sk-text-repr-fallback\"><pre>RandomForestRegressor()</pre><b>In a Jupyter environment, please rerun this cell to show the HTML representation or trust the notebook. <br />On GitHub, the HTML representation is unable to render, please try loading this page with nbviewer.org.</b></div><div class=\"sk-container\" hidden><div class=\"sk-item\"><div class=\"sk-estimator fitted sk-toggleable\"><input class=\"sk-toggleable__control sk-hidden--visually\" id=\"sk-estimator-id-2\" type=\"checkbox\" checked><label for=\"sk-estimator-id-2\" class=\"sk-toggleable__label fitted sk-toggleable__label-arrow\"><div><div>RandomForestRegressor</div></div><div><a class=\"sk-estimator-doc-link fitted\" rel=\"noreferrer\" target=\"_blank\" href=\"https://scikit-learn.org/1.6/modules/generated/sklearn.ensemble.RandomForestRegressor.html\">?<span>Documentation for RandomForestRegressor</span></a><span class=\"sk-estimator-doc-link fitted\">i<span>Fitted</span></span></div></label><div class=\"sk-toggleable__content fitted\"><pre>RandomForestRegressor()</pre></div> </div></div></div></div>"
      ],
      "text/plain": [
       "RandomForestRegressor()"
      ]
     },
     "execution_count": 52,
     "metadata": {},
     "output_type": "execute_result"
    }
   ],
   "source": [
    "# Build the model to learn the releationship between the two variables\n",
    "rfr_model = RandomForestRegressor()\n",
    "rfr_model.fit(X_train_scaled, y_train)"
   ]
  },
  {
   "cell_type": "code",
   "execution_count": 53,
   "id": "f9ac1014",
   "metadata": {},
   "outputs": [],
   "source": [
    "X_train_predict_rfr = rfr_model.predict(X_train_scaled)"
   ]
  },
  {
   "cell_type": "code",
   "execution_count": 54,
   "id": "0d1f8a84",
   "metadata": {},
   "outputs": [
    {
     "data": {
      "text/plain": [
       "np.float64(5617.636800000008)"
      ]
     },
     "execution_count": 54,
     "metadata": {},
     "output_type": "execute_result"
    }
   ],
   "source": [
    "X_train_predict_rfr[0]"
   ]
  },
  {
   "cell_type": "code",
   "execution_count": 79,
   "id": "8ddcd895",
   "metadata": {},
   "outputs": [],
   "source": [
    "X_test_predict_rfr = rfr_model.predict(X_test_scaled)"
   ]
  },
  {
   "cell_type": "code",
   "execution_count": 80,
   "id": "31fc1629",
   "metadata": {},
   "outputs": [
    {
     "data": {
      "text/plain": [
       "np.float64(5718.750000000001)"
      ]
     },
     "execution_count": 80,
     "metadata": {},
     "output_type": "execute_result"
    }
   ],
   "source": [
    "X_test_predict_rfr[0]"
   ]
  },
  {
   "cell_type": "code",
   "execution_count": null,
   "id": "82683da8",
   "metadata": {},
   "outputs": [
    {
     "name": "stdout",
     "output_type": "stream",
     "text": [
      "RandomForestRegressor:\n",
      "Mean Absolute Error (MAE): 121.61\n",
      "Mean Squared Error (MSE): 37145.53\n",
      "R² Score: 0.9674\n"
     ]
    }
   ],
   "source": [
    "# Calculate evaluation metrics for X_train_rfr model\n",
    "mae = mean_absolute_error(y_train, X_train_predict_rfr)\n",
    "mse = mean_squared_error(y_train, X_train_predict_rfr)\n",
    "r2 = r2_score(y_train, X_train_predict_rfr)\n",
    "\n",
    "print(\"RandomForestRegressor:\")\n",
    "print(f\"Mean Absolute Error (MAE): {mae:.2f}\")\n",
    "print(f\"Mean Squared Error (MSE): {mse:.2f}\")\n",
    "print(f\"R² Score: {r2:.4f}\")"
   ]
  },
  {
   "cell_type": "code",
   "execution_count": null,
   "id": "71a608bc",
   "metadata": {},
   "outputs": [
    {
     "name": "stdout",
     "output_type": "stream",
     "text": [
      "RandomForestRegressor:\n",
      "Mean Absolute Error (MAE): 262.26\n",
      "Mean Squared Error (MSE): 186641.77\n",
      "R² Score: 0.8563\n"
     ]
    }
   ],
   "source": [
    "# Calculate evaluation metrics for X_test_rfr_model\n",
    "mae = mean_absolute_error(y_test, X_test_predict_rfr)\n",
    "mse = mean_squared_error(y_test, X_test_predict_rfr)\n",
    "r2 = r2_score(y_test, X_test_predict_rfr)\n",
    "\n",
    "print(\"RandomForestRegressor:\")\n",
    "print(f\"Mean Absolute Error (MAE): {mae:.2f}\")\n",
    "print(f\"Mean Squared Error (MSE): {mse:.2f}\")\n",
    "print(f\"R² Score: {r2:.4f}\")"
   ]
  },
  {
   "cell_type": "markdown",
   "id": "8fc93d91",
   "metadata": {},
   "source": [
    "**No severe overfitting**"
   ]
  },
  {
   "cell_type": "markdown",
   "id": "0a3d7303",
   "metadata": {},
   "source": [
    "## Comparing the models using plots"
   ]
  },
  {
   "cell_type": "code",
   "execution_count": 83,
   "id": "b021c7f4",
   "metadata": {},
   "outputs": [
    {
     "data": {
      "image/png": "[encoded data removed]",
      "text/plain": [
       "<Figure size 1400x600 with 2 Axes>"
      ]
     },
     "metadata": {},
     "output_type": "display_data"
    }
   ],
   "source": [
    "# Create a figure with two subplots\n",
    "plt.figure(figsize=(14, 6))\n",
    "\n",
    "# Plot 1: Linear Regression\n",
    "plt.subplot(1, 2, 1)\n",
    "plt.scatter(X_test, y_test, color='blue', label='Actual Gold Rate', alpha=0.6)\n",
    "plt.scatter(X_test, X_test_predict, color='red', label='Linear Regression Predictions', alpha=0.6)\n",
    "plt.xlabel('USD/INR')\n",
    "plt.ylabel('Gold_rate')\n",
    "plt.title('Linear Regression: Actual vs Predicted')\n",
    "plt.legend()\n",
    "plt.grid(True)\n",
    "\n",
    "# Plot 2: Random Forest Regression\n",
    "plt.subplot(1, 2, 2)\n",
    "plt.scatter(X_test, y_test, color='blue', label='Actual Gold Rate', alpha=0.6)\n",
    "plt.scatter(X_test, X_test_predict_rfr, color='green', label='Random Forest Predictions', alpha=0.6)\n",
    "plt.xlabel('USD/INR')\n",
    "plt.ylabel('Gold_rate')\n",
    "plt.title('Random Forest Regression: Actual vs Predicted')\n",
    "plt.legend()\n",
    "plt.grid(True)\n",
    "\n",
    "plt.tight_layout()\n",
    "plt.show()"
   ]
  },
  {
   "cell_type": "markdown",
   "id": "76b4b807",
   "metadata": {},
   "source": [
    "Random Forest's predictions closely follow actual gold rates with higher accuracy (R²: 0.85 vs 0.67) → Deploy Random Forest.\n",
    "\n",
    "Why?\n",
    "\n",
    "-- Lower errors (MAE: 262 vs 484) and better fit for non-linear trends.\n",
    "\n",
    "-- Visual plots confirm RF predictions align tighter with actual data points."
   ]
  },
  {
   "cell_type": "markdown",
   "id": "face1638",
   "metadata": {},
   "source": [
    "## MLOPS"
   ]
  },
  {
   "cell_type": "markdown",
   "id": "5cc34efe",
   "metadata": {},
   "source": [
    "-- Save the model\n",
    "\n",
    "-- Build interface\n",
    "\n",
    "-- Connect model & Interface"
   ]
  },
  {
   "cell_type": "code",
   "execution_count": 86,
   "id": "7f02c3c1",
   "metadata": {},
   "outputs": [],
   "source": [
    "# Save the dataframes\n",
    "gold_dataset.to_csv(\"gold_dataset_for_price_predictions.csv\", index=False)"
   ]
  },
  {
   "cell_type": "code",
   "execution_count": 90,
   "id": "f0ff9345",
   "metadata": {},
   "outputs": [],
   "source": [
    "#Save the model using pickle for later use\n",
    "pickle.dump(regressor, open('regressor.pkl', 'wb'))\n",
    "pickle.dump(rfr_model, open('rfr_model.pkl', 'wb'))\n",
    "pickle.dump(scaler, open('scaler.pkl', 'wb'))"
   ]
  },
  {
   "cell_type": "code",
   "execution_count": 91,
   "id": "5fc621dd",
   "metadata": {},
   "outputs": [],
   "source": [
    "# Reload the model\n",
    "regressor_reloaded = pickle.load(open('regressor.pkl', 'rb'))\n",
    "rfr_reloaded = pickle.load(open('rfr_model.pkl', 'rb'))\n",
    "scaler_reloded = pickle.load(open('scaler.pkl', 'rb'))"
   ]
  },
  {
   "cell_type": "markdown",
   "id": "35affa2b",
   "metadata": {},
   "source": [
    "### Creating the demo interface"
   ]
  },
  {
   "cell_type": "code",
   "execution_count": 95,
   "id": "ccbb338f",
   "metadata": {},
   "outputs": [
    {
     "name": "stdout",
     "output_type": "stream",
     "text": [
      "* Running on local URL:  http://127.0.0.1:7861\n",
      "* To create a public link, set `share=True` in `launch()`.\n"
     ]
    },
    {
     "data": {
      "text/html": [
       "<div><iframe src=\"http://127.0.0.1:7861/\" width=\"100%\" height=\"500\" allow=\"autoplay; camera; microphone; clipboard-read; clipboard-write;\" frameborder=\"0\" allowfullscreen></iframe></div>"
      ],
      "text/plain": [
       "<IPython.core.display.HTML object>"
      ]
     },
     "metadata": {},
     "output_type": "display_data"
    },
    {
     "data": {
      "text/plain": []
     },
     "execution_count": 95,
     "metadata": {},
     "output_type": "execute_result"
    },
    {
     "name": "stderr",
     "output_type": "stream",
     "text": [
      "c:\\Users\\sanka\\anaconda3\\envs\\learning\\Lib\\site-packages\\sklearn\\utils\\validation.py:2739: UserWarning: X does not have valid feature names, but StandardScaler was fitted with feature names\n",
      "  warnings.warn(\n"
     ]
    }
   ],
   "source": [
    "# Prediction function\n",
    "def predict_gold_price(usd_inr):\n",
    "    scaled_input = scaler_reloded.transform(np.array(usd_inr).reshape(1, -1))\n",
    "    prediction = rfr_model.predict(scaled_input)\n",
    "    \n",
    "    return prediction[0].round(2)\n",
    "\n",
    "# Create input and output interface\n",
    "import gradio as gr\n",
    "\n",
    "interface = gr.Interface(fn=predict_gold_price, inputs=\"number\", outputs=\"number\", title=\"Gold Price Predictor\")\n",
    "    \n",
    "interface.launch()"
   ]
  },
  {
   "cell_type": "code",
   "execution_count": null,
   "id": "fa8d754f",
   "metadata": {},
   "outputs": [],
   "source": []
  }
 ],
 "metadata": {
  "kernelspec": {
   "display_name": "learning",
   "language": "python",
   "name": "python3"
  },
  "language_info": {
   "codemirror_mode": {
    "name": "ipython",
    "version": 3
   },
   "file_extension": ".py",
   "mimetype": "text/x-python",
   "name": "python",
   "nbconvert_exporter": "python",
   "pygments_lexer": "ipython3",
   "version": "3.12.11"
  }
 },
 "nbformat": 4,
 "nbformat_minor": 5
}
